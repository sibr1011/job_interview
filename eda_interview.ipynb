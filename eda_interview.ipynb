{
 "cells": [
  {
   "cell_type": "markdown",
   "metadata": {
    "application/vnd.databricks.v1+cell": {
     "cellMetadata": {
      "byteLimit": 2048000,
      "rowLimit": 10000
     },
     "inputWidgets": {},
     "nuid": "c56285e8-d7ba-491d-9318-286516d75155",
     "showTitle": false,
     "title": ""
    }
   },
   "source": [
    "# JOB Interview - Data Analyst\n",
    "\n",
    "Welcome to this notebook! Here I present the approach I took to analyse the dataset the interviewers sent to me during a \"Data Analyst\" job interview process. The R&D department operates in the healthcare sector and produces hearing aids for B2B. The following steps were taken:\n",
    "<br><br>\n",
    "1. Understanding the Problem & Setting the Scene\n",
    "2. Setting up the infrastructure\n",
    "3. Getting Data\n",
    "4. Exploratory Data Analysis - Python\n",
    "    1. Sneak Peak\n",
    "    2. Types of columns & description\n",
    "    3. Descriptive Statistics\n",
    "    4. Plots & Questions (includes new features)\n",
    "6. Results & Limitations\n",
    "7. Sources Used"
   ]
  },
  {
   "cell_type": "markdown",
   "metadata": {
    "application/vnd.databricks.v1+cell": {
     "cellMetadata": {
      "byteLimit": 2048000,
      "rowLimit": 10000
     },
     "inputWidgets": {},
     "nuid": "3ab9d4a2-2b12-4639-8ec6-6c20bbe8a6e5",
     "showTitle": false,
     "title": ""
    }
   },
   "source": [
    "## 1. Understanding the Problem\n",
    "\n",
    "The interviewers have provided a dataset in the ```.csv```-format to the potential candidate (me). The formulated task, by the interviewers, is to \"showcase your skills and investigate the dataset\". The interview is scheduled to take place a week after receiving the dataset. In this appointment the interviewee will need to present his results. Emphasis is placed on written code. <b>No further instructions have been made. </b> The R&D department offering the Data Analyst position are looking for support due to the growing amount of requests.\n",
    "\n",
    "However, the interviewee has deducted that the following requirements need to be met to some extent, in order for him to proceed to the interview stage 2. He also wants to use this interview as an opportunity to learn new things. He bases his assumptions on information provided in a screening interview and the job position:\n",
    "\n",
    "  * a) Company language is English, therefore code and explanations should meet this requirement\n",
    "  * b) Programming skills in Python, SQL as well Power BI (DAX / M-Language) should be incorporated, as the department relies on these for coding\n",
    "  * c) Coding principles should be followed (\"Commit early, commit often\", commented code, clean code)\n",
    "  * d) Deliver high quality analytics in easy and understandable way\n",
    "  * e) Answering common data analytics questions using EDA for the dataset\n",
    "  * f) Data pipelines should be implemented\n",
    "  * g) Utilizing Apache Spark (pyspark), Azure Services and ML methods are icing on the cake!"
   ]
  },
  {
   "cell_type": "markdown",
   "metadata": {
    "application/vnd.databricks.v1+cell": {
     "cellMetadata": {
      "byteLimit": 2048000,
      "rowLimit": 10000
     },
     "inputWidgets": {},
     "nuid": "2e17b6c0-df5a-4455-ac36-93b2750667e5",
     "showTitle": false,
     "title": ""
    }
   },
   "source": [
    "## 2. Setting up the infrastructure\n",
    "\n",
    "[![IMAGE ALT TEXT HERE](https://github.com/sibr1011/job_interview/blob/main/pics/pipeline.png?raw=true)](https://github.com/sibr1011/job_interview/blob/main/pics/pipeline.png?raw=true)\n",
    "\n",
    "The image above illustrates the process that was taken for the task at hand. The provided ```.csv``` was uploaded to github. In this notebook we read the file directly into spark. After feature generation and cleaning has taken place, we will store the date in a Hive Database.\n",
    "\n",
    "This section focues on Problems f) and partly g) from section *1. Understanding the Problem.*"
   ]
  },
  {
   "cell_type": "markdown",
   "metadata": {
    "application/vnd.databricks.v1+cell": {
     "cellMetadata": {
      "byteLimit": 2048000,
      "rowLimit": 10000
     },
     "inputWidgets": {},
     "nuid": "b1b7c87c-e05b-4e3e-a915-a5e82e7e89a0",
     "showTitle": false,
     "title": ""
    }
   },
   "source": [
    "## 3. Getting Data & Cleaning"
   ]
  },
  {
   "cell_type": "code",
   "execution_count": 0,
   "metadata": {
    "application/vnd.databricks.v1+cell": {
     "cellMetadata": {
      "byteLimit": 2048000,
      "rowLimit": 10000
     },
     "inputWidgets": {},
     "nuid": "8d89f5c4-35f8-4721-adbb-753adaffd3d6",
     "showTitle": true,
     "title": "Getting Data"
    }
   },
   "outputs": [],
   "source": [
    "# imports\n",
    "import pyspark as ps\n",
    "from pyspark.sql.types import StructField, StructType, DateType, StringType\n",
    "from pyspark.sql import SparkSession\n",
    "from pyspark.sql import Row\n",
    "from pyspark import SparkFiles\n",
    "from pyspark.sql import functions as F\n",
    "from functools import reduce\n",
    "import pandas as pd\n",
    "import sys\n",
    "\n",
    "\n",
    "# url for csv\n",
    "url = \"https://raw.githubusercontent.com/sibr1011/job_interview/main/WSA_jobinterviewdata.csv\"\n",
    "\n",
    "# variables for writing back later\n",
    "appName= \"hive_metastore\"\n",
    "master= \"local\""
   ]
  },
  {
   "cell_type": "code",
   "execution_count": 0,
   "metadata": {
    "application/vnd.databricks.v1+cell": {
     "cellMetadata": {
      "byteLimit": 2048000,
      "rowLimit": 10000
     },
     "inputWidgets": {},
     "nuid": "68f62ef1-887c-4450-8c43-3a8b7fd9f7a6",
     "showTitle": true,
     "title": "Getting Data"
    }
   },
   "outputs": [],
   "source": [
    "# initialize session for writing data back later\n",
    "spark = SparkSession.builder.appName('Interview CSV').getOrCreate()"
   ]
  },
  {
   "cell_type": "code",
   "execution_count": 0,
   "metadata": {
    "application/vnd.databricks.v1+cell": {
     "cellMetadata": {
      "byteLimit": 2048000,
      "rowLimit": 10000
     },
     "inputWidgets": {},
     "nuid": "ffbf8a76-0678-4041-988e-17089506639a",
     "showTitle": true,
     "title": "Getting Data"
    }
   },
   "outputs": [],
   "source": [
    "# loading data from csv to pyspark df\n",
    "spark.sparkContext.addFile(url)"
   ]
  },
  {
   "cell_type": "code",
   "execution_count": 0,
   "metadata": {
    "application/vnd.databricks.v1+cell": {
     "cellMetadata": {
      "byteLimit": 2048000,
      "rowLimit": 10000
     },
     "inputWidgets": {},
     "nuid": "8422eb53-a3a7-459b-af0f-ddb729017460",
     "showTitle": true,
     "title": "Getting Data"
    }
   },
   "outputs": [
    {
     "output_type": "stream",
     "name": "stdout",
     "output_type": "stream",
     "text": [
      "Out[254]: '/local_disk0/spark-0b472f66-bd7c-494a-b20d-f632f81d531c/userFiles-412ede6b-640d-4d88-952a-a8068bc282b6'"
     ]
    }
   ],
   "source": [
    "# seems to be a bug where the file lands -> https://stackoverflow.com/questions/70246983/sparkfiles-path-not-found\n",
    "SparkFiles.getRootDirectory()"
   ]
  },
  {
   "cell_type": "code",
   "execution_count": 0,
   "metadata": {
    "application/vnd.databricks.v1+cell": {
     "cellMetadata": {
      "byteLimit": 2048000,
      "rowLimit": 10000
     },
     "inputWidgets": {},
     "nuid": "a31a107f-a660-48e7-b862-89b5653c3174",
     "showTitle": true,
     "title": "Getting Data"
    }
   },
   "outputs": [],
   "source": [
    "# read the file with schema\n",
    "df = spark.read.csv(SparkFiles.get(\"/local_disk0/WSA_jobinterviewdata.csv\"), inferSchema=True, header=True)\n",
    "\n",
    "# rename cols\n",
    "old_col_names = df.schema.names\n",
    "new_col_names = [\"patient\", \"action\", \"org_resource\", \"date_time\"]\n",
    "df = reduce(lambda df, idx: df.withColumnRenamed(old_col_names[idx], new_col_names[idx]), range(len(old_col_names)), df)"
   ]
  },
  {
   "cell_type": "code",
   "execution_count": 0,
   "metadata": {
    "application/vnd.databricks.v1+cell": {
     "cellMetadata": {
      "byteLimit": 2048000,
      "rowLimit": 10000
     },
     "inputWidgets": {},
     "nuid": "db9902da-1e32-4250-a680-4584c7fc611c",
     "showTitle": true,
     "title": "Getting Data"
    }
   },
   "outputs": [
    {
     "output_type": "stream",
     "name": "stdout",
     "output_type": "stream",
     "text": [
      "root\n |-- patient: string (nullable = true)\n |-- action: string (nullable = true)\n |-- org_resource: string (nullable = true)\n |-- date_time: timestamp (nullable = true)\n\nNone\nIndex(['id', 'patient_id', 'patient', 'action', 'org_resource', 'date_time'], dtype='object')\n"
     ]
    }
   ],
   "source": [
    "# now the schema is the way we want it\n",
    "print(df.printSchema())\n",
    "\n",
    "# create pandasDF just for fun\n",
    "pandasDF = df.toPandas()\n",
    "\n",
    "# trim leading / trailing whitspaces\n",
    "pandasDF['action'] = pandasDF['action'].str.strip()\n",
    "pandasDF['org_resource'] = pandasDF['org_resource'].str.strip()\n",
    "pandasDF['patient'] = pandasDF['patient'].str.strip()\n",
    "\n",
    "# give each patient an id\n",
    "pandasDF['patient_id'] = pandasDF.groupby(['patient']).ngroup()\n",
    "pandasDF['id'] = pandasDF.reset_index().index\n",
    "\n",
    "# reorder columns\n",
    "pandasDF = pandasDF[['id', 'patient_id', 'patient', 'action', 'org_resource', 'date_time']]\n",
    "print(pandasDF.columns)"
   ]
  },
  {
   "cell_type": "code",
   "execution_count": 0,
   "metadata": {
    "application/vnd.databricks.v1+cell": {
     "cellMetadata": {
      "byteLimit": 2048000,
      "rowLimit": 10000
     },
     "inputWidgets": {},
     "nuid": "56034323-be90-4361-9e91-248b2d4c6c99",
     "showTitle": true,
     "title": "Getting Data"
    }
   },
   "outputs": [
    {
     "output_type": "stream",
     "name": "stdout",
     "output_type": "stream",
     "text": [
      "Out[257]: pyspark.sql.dataframe.DataFrame"
     ]
    }
   ],
   "source": [
    "type(df)"
   ]
  },
  {
   "cell_type": "markdown",
   "metadata": {
    "application/vnd.databricks.v1+cell": {
     "cellMetadata": {
      "byteLimit": 2048000,
      "rowLimit": 10000
     },
     "inputWidgets": {},
     "nuid": "0c201f1f-20be-49f7-92c1-4c40cf529e5a",
     "showTitle": false,
     "title": ""
    }
   },
   "source": [
    "## 4. Exploratory Data Analysis"
   ]
  },
  {
   "cell_type": "markdown",
   "metadata": {
    "application/vnd.databricks.v1+cell": {
     "cellMetadata": {
      "byteLimit": 2048000,
      "rowLimit": 10000
     },
     "inputWidgets": {},
     "nuid": "fe8fe4e7-e456-4794-8e69-fabb6ef27393",
     "showTitle": false,
     "title": ""
    }
   },
   "source": [
    "### 4.1 Sneak Peak"
   ]
  },
  {
   "cell_type": "code",
   "execution_count": 0,
   "metadata": {
    "application/vnd.databricks.v1+cell": {
     "cellMetadata": {
      "byteLimit": 2048000,
      "rowLimit": 10000
     },
     "inputWidgets": {},
     "nuid": "20902dd4-e881-4a85-a697-21338365f1ae",
     "showTitle": false,
     "title": "Sneak Peak"
    }
   },
   "outputs": [
    {
     "output_type": "stream",
     "name": "stdout",
     "output_type": "stream",
     "text": [
      "records ct:  690\ncolumns ct:  4\n"
     ]
    }
   ],
   "source": [
    "# 1. shape / counts -> 690 rows, 4 columns\n",
    "print(\"records ct: \", df.count())\n",
    "print(\"columns ct: \", sum(1 for x in df.columns))"
   ]
  },
  {
   "cell_type": "code",
   "execution_count": 0,
   "metadata": {
    "application/vnd.databricks.v1+cell": {
     "cellMetadata": {
      "byteLimit": 2048000,
      "rowLimit": 10000
     },
     "inputWidgets": {},
     "nuid": "eac0d0b4-2026-49c2-8909-cd5617b75490",
     "showTitle": false,
     "title": "Sneak Peak"
    }
   },
   "outputs": [
    {
     "output_type": "display_data",
     "data": {
      "text/html": [
       "<div>\n",
       "<style scoped>\n",
       "    .dataframe tbody tr th:only-of-type {\n",
       "        vertical-align: middle;\n",
       "    }\n",
       "\n",
       "    .dataframe tbody tr th {\n",
       "        vertical-align: top;\n",
       "    }\n",
       "\n",
       "    .dataframe thead th {\n",
       "        text-align: right;\n",
       "    }\n",
       "</style>\n",
       "<table border=\"1\" class=\"dataframe\">\n",
       "  <thead>\n",
       "    <tr style=\"text-align: right;\">\n",
       "      <th></th>\n",
       "      <th>id</th>\n",
       "      <th>patient_id</th>\n",
       "      <th>patient</th>\n",
       "      <th>action</th>\n",
       "      <th>org_resource</th>\n",
       "      <th>date_time</th>\n",
       "    </tr>\n",
       "  </thead>\n",
       "  <tbody>\n",
       "    <tr>\n",
       "      <th>0</th>\n",
       "      <td>0</td>\n",
       "      <td>0</td>\n",
       "      <td>patient 0</td>\n",
       "      <td>First consult</td>\n",
       "      <td>Dr. Anna</td>\n",
       "      <td>2017-01-02 11:40:11</td>\n",
       "    </tr>\n",
       "    <tr>\n",
       "      <th>1</th>\n",
       "      <td>1</td>\n",
       "      <td>0</td>\n",
       "      <td>patient 0</td>\n",
       "      <td>Blood test</td>\n",
       "      <td>Lab</td>\n",
       "      <td>2017-01-02 12:47:33</td>\n",
       "    </tr>\n",
       "    <tr>\n",
       "      <th>2</th>\n",
       "      <td>2</td>\n",
       "      <td>0</td>\n",
       "      <td>patient 0</td>\n",
       "      <td>Physical test</td>\n",
       "      <td>Nurse Jesse</td>\n",
       "      <td>2017-01-02 12:53:50</td>\n",
       "    </tr>\n",
       "    <tr>\n",
       "      <th>3</th>\n",
       "      <td>3</td>\n",
       "      <td>0</td>\n",
       "      <td>patient 0</td>\n",
       "      <td>Second consult</td>\n",
       "      <td>Dr. Anna</td>\n",
       "      <td>2017-01-02 16:21:06</td>\n",
       "    </tr>\n",
       "    <tr>\n",
       "      <th>4</th>\n",
       "      <td>4</td>\n",
       "      <td>0</td>\n",
       "      <td>patient 0</td>\n",
       "      <td>Surgery</td>\n",
       "      <td>Dr. Charlie</td>\n",
       "      <td>2017-01-05 13:23:09</td>\n",
       "    </tr>\n",
       "    <tr>\n",
       "      <th>5</th>\n",
       "      <td>5</td>\n",
       "      <td>0</td>\n",
       "      <td>patient 0</td>\n",
       "      <td>Final consult</td>\n",
       "      <td>Dr. Ben</td>\n",
       "      <td>2017-01-09 08:29:28</td>\n",
       "    </tr>\n",
       "    <tr>\n",
       "      <th>6</th>\n",
       "      <td>6</td>\n",
       "      <td>1</td>\n",
       "      <td>patient 1</td>\n",
       "      <td>First consult</td>\n",
       "      <td>Dr. Anna</td>\n",
       "      <td>2017-01-02 12:50:35</td>\n",
       "    </tr>\n",
       "    <tr>\n",
       "      <th>7</th>\n",
       "      <td>7</td>\n",
       "      <td>1</td>\n",
       "      <td>patient 1</td>\n",
       "      <td>Physical test</td>\n",
       "      <td>Nurse Jesse</td>\n",
       "      <td>2017-01-02 13:59:14</td>\n",
       "    </tr>\n",
       "    <tr>\n",
       "      <th>8</th>\n",
       "      <td>8</td>\n",
       "      <td>1</td>\n",
       "      <td>patient 1</td>\n",
       "      <td>Blood test</td>\n",
       "      <td>Lab</td>\n",
       "      <td>2017-01-02 14:20:19</td>\n",
       "    </tr>\n",
       "    <tr>\n",
       "      <th>9</th>\n",
       "      <td>9</td>\n",
       "      <td>1</td>\n",
       "      <td>patient 1</td>\n",
       "      <td>X-ray scan</td>\n",
       "      <td>Team 1</td>\n",
       "      <td>2017-01-06 09:13:40</td>\n",
       "    </tr>\n",
       "  </tbody>\n",
       "</table>\n",
       "</div>"
      ]
     },
     "metadata": {
      "application/vnd.databricks.v1+output": {
       "addedWidgets": {},
       "arguments": {},
       "data": "<div>\n<style scoped>\n    .dataframe tbody tr th:only-of-type {\n        vertical-align: middle;\n    }\n\n    .dataframe tbody tr th {\n        vertical-align: top;\n    }\n\n    .dataframe thead th {\n        text-align: right;\n    }\n</style>\n<table border=\"1\" class=\"dataframe\">\n  <thead>\n    <tr style=\"text-align: right;\">\n      <th></th>\n      <th>id</th>\n      <th>patient_id</th>\n      <th>patient</th>\n      <th>action</th>\n      <th>org_resource</th>\n      <th>date_time</th>\n    </tr>\n  </thead>\n  <tbody>\n    <tr>\n      <th>0</th>\n      <td>0</td>\n      <td>0</td>\n      <td>patient 0</td>\n      <td>First consult</td>\n      <td>Dr. Anna</td>\n      <td>2017-01-02 11:40:11</td>\n    </tr>\n    <tr>\n      <th>1</th>\n      <td>1</td>\n      <td>0</td>\n      <td>patient 0</td>\n      <td>Blood test</td>\n      <td>Lab</td>\n      <td>2017-01-02 12:47:33</td>\n    </tr>\n    <tr>\n      <th>2</th>\n      <td>2</td>\n      <td>0</td>\n      <td>patient 0</td>\n      <td>Physical test</td>\n      <td>Nurse Jesse</td>\n      <td>2017-01-02 12:53:50</td>\n    </tr>\n    <tr>\n      <th>3</th>\n      <td>3</td>\n      <td>0</td>\n      <td>patient 0</td>\n      <td>Second consult</td>\n      <td>Dr. Anna</td>\n      <td>2017-01-02 16:21:06</td>\n    </tr>\n    <tr>\n      <th>4</th>\n      <td>4</td>\n      <td>0</td>\n      <td>patient 0</td>\n      <td>Surgery</td>\n      <td>Dr. Charlie</td>\n      <td>2017-01-05 13:23:09</td>\n    </tr>\n    <tr>\n      <th>5</th>\n      <td>5</td>\n      <td>0</td>\n      <td>patient 0</td>\n      <td>Final consult</td>\n      <td>Dr. Ben</td>\n      <td>2017-01-09 08:29:28</td>\n    </tr>\n    <tr>\n      <th>6</th>\n      <td>6</td>\n      <td>1</td>\n      <td>patient 1</td>\n      <td>First consult</td>\n      <td>Dr. Anna</td>\n      <td>2017-01-02 12:50:35</td>\n    </tr>\n    <tr>\n      <th>7</th>\n      <td>7</td>\n      <td>1</td>\n      <td>patient 1</td>\n      <td>Physical test</td>\n      <td>Nurse Jesse</td>\n      <td>2017-01-02 13:59:14</td>\n    </tr>\n    <tr>\n      <th>8</th>\n      <td>8</td>\n      <td>1</td>\n      <td>patient 1</td>\n      <td>Blood test</td>\n      <td>Lab</td>\n      <td>2017-01-02 14:20:19</td>\n    </tr>\n    <tr>\n      <th>9</th>\n      <td>9</td>\n      <td>1</td>\n      <td>patient 1</td>\n      <td>X-ray scan</td>\n      <td>Team 1</td>\n      <td>2017-01-06 09:13:40</td>\n    </tr>\n  </tbody>\n</table>\n</div>",
       "datasetInfos": [],
       "metadata": {},
       "removedWidgets": [],
       "textData": null,
       "type": "htmlSandbox"
      }
     },
     "output_type": "display_data"
    }
   ],
   "source": [
    "# 1. head() - i think the output looks better in pandas df\n",
    "pandasDF.head(10)"
   ]
  },
  {
   "cell_type": "code",
   "execution_count": 0,
   "metadata": {
    "application/vnd.databricks.v1+cell": {
     "cellMetadata": {
      "byteLimit": 2048000,
      "rowLimit": 10000
     },
     "inputWidgets": {},
     "nuid": "9c3ccb2a-7905-42e7-9702-0b9ca69016ec",
     "showTitle": false,
     "title": "Sneak Peak"
    }
   },
   "outputs": [
    {
     "output_type": "display_data",
     "data": {
      "text/html": [
       "<div>\n",
       "<style scoped>\n",
       "    .dataframe tbody tr th:only-of-type {\n",
       "        vertical-align: middle;\n",
       "    }\n",
       "\n",
       "    .dataframe tbody tr th {\n",
       "        vertical-align: top;\n",
       "    }\n",
       "\n",
       "    .dataframe thead th {\n",
       "        text-align: right;\n",
       "    }\n",
       "</style>\n",
       "<table border=\"1\" class=\"dataframe\">\n",
       "  <thead>\n",
       "    <tr style=\"text-align: right;\">\n",
       "      <th></th>\n",
       "      <th>id</th>\n",
       "      <th>patient_id</th>\n",
       "      <th>patient</th>\n",
       "      <th>action</th>\n",
       "      <th>org_resource</th>\n",
       "      <th>date_time</th>\n",
       "    </tr>\n",
       "  </thead>\n",
       "  <tbody>\n",
       "    <tr>\n",
       "      <th>680</th>\n",
       "      <td>680</td>\n",
       "      <td>98</td>\n",
       "      <td>patient 98</td>\n",
       "      <td>Second consult</td>\n",
       "      <td>Dr. Anna</td>\n",
       "      <td>2017-05-26 11:53:12</td>\n",
       "    </tr>\n",
       "    <tr>\n",
       "      <th>681</th>\n",
       "      <td>681</td>\n",
       "      <td>98</td>\n",
       "      <td>patient 98</td>\n",
       "      <td>Surgery</td>\n",
       "      <td>Dr. Alex</td>\n",
       "      <td>2017-05-30 14:13:17</td>\n",
       "    </tr>\n",
       "    <tr>\n",
       "      <th>682</th>\n",
       "      <td>682</td>\n",
       "      <td>98</td>\n",
       "      <td>patient 98</td>\n",
       "      <td>Final consult</td>\n",
       "      <td>Dr. Ben</td>\n",
       "      <td>2017-05-31 14:16:13</td>\n",
       "    </tr>\n",
       "    <tr>\n",
       "      <th>683</th>\n",
       "      <td>683</td>\n",
       "      <td>99</td>\n",
       "      <td>patient 99</td>\n",
       "      <td>First consult</td>\n",
       "      <td>Dr. Bob</td>\n",
       "      <td>2017-05-18 11:57:11</td>\n",
       "    </tr>\n",
       "    <tr>\n",
       "      <th>684</th>\n",
       "      <td>684</td>\n",
       "      <td>99</td>\n",
       "      <td>patient 99</td>\n",
       "      <td>Blood test</td>\n",
       "      <td>Lab</td>\n",
       "      <td>2017-05-18 13:13:44</td>\n",
       "    </tr>\n",
       "    <tr>\n",
       "      <th>685</th>\n",
       "      <td>685</td>\n",
       "      <td>99</td>\n",
       "      <td>patient 99</td>\n",
       "      <td>X-ray scan</td>\n",
       "      <td>Team 2</td>\n",
       "      <td>2017-05-25 11:03:27</td>\n",
       "    </tr>\n",
       "    <tr>\n",
       "      <th>686</th>\n",
       "      <td>686</td>\n",
       "      <td>99</td>\n",
       "      <td>patient 99</td>\n",
       "      <td>Physical test</td>\n",
       "      <td>Nurse Corey</td>\n",
       "      <td>2017-05-25 11:55:24</td>\n",
       "    </tr>\n",
       "    <tr>\n",
       "      <th>687</th>\n",
       "      <td>687</td>\n",
       "      <td>99</td>\n",
       "      <td>patient 99</td>\n",
       "      <td>Second consult</td>\n",
       "      <td>Dr. Anna</td>\n",
       "      <td>2017-05-29 15:12:39</td>\n",
       "    </tr>\n",
       "    <tr>\n",
       "      <th>688</th>\n",
       "      <td>688</td>\n",
       "      <td>99</td>\n",
       "      <td>patient 99</td>\n",
       "      <td>Medicine</td>\n",
       "      <td>Pharmacy</td>\n",
       "      <td>2017-05-29 16:17:13</td>\n",
       "    </tr>\n",
       "    <tr>\n",
       "      <th>689</th>\n",
       "      <td>689</td>\n",
       "      <td>99</td>\n",
       "      <td>patient 99</td>\n",
       "      <td>Final consult</td>\n",
       "      <td>Dr. Anna</td>\n",
       "      <td>2017-05-31 12:46:43</td>\n",
       "    </tr>\n",
       "  </tbody>\n",
       "</table>\n",
       "</div>"
      ]
     },
     "metadata": {
      "application/vnd.databricks.v1+output": {
       "addedWidgets": {},
       "arguments": {},
       "data": "<div>\n<style scoped>\n    .dataframe tbody tr th:only-of-type {\n        vertical-align: middle;\n    }\n\n    .dataframe tbody tr th {\n        vertical-align: top;\n    }\n\n    .dataframe thead th {\n        text-align: right;\n    }\n</style>\n<table border=\"1\" class=\"dataframe\">\n  <thead>\n    <tr style=\"text-align: right;\">\n      <th></th>\n      <th>id</th>\n      <th>patient_id</th>\n      <th>patient</th>\n      <th>action</th>\n      <th>org_resource</th>\n      <th>date_time</th>\n    </tr>\n  </thead>\n  <tbody>\n    <tr>\n      <th>680</th>\n      <td>680</td>\n      <td>98</td>\n      <td>patient 98</td>\n      <td>Second consult</td>\n      <td>Dr. Anna</td>\n      <td>2017-05-26 11:53:12</td>\n    </tr>\n    <tr>\n      <th>681</th>\n      <td>681</td>\n      <td>98</td>\n      <td>patient 98</td>\n      <td>Surgery</td>\n      <td>Dr. Alex</td>\n      <td>2017-05-30 14:13:17</td>\n    </tr>\n    <tr>\n      <th>682</th>\n      <td>682</td>\n      <td>98</td>\n      <td>patient 98</td>\n      <td>Final consult</td>\n      <td>Dr. Ben</td>\n      <td>2017-05-31 14:16:13</td>\n    </tr>\n    <tr>\n      <th>683</th>\n      <td>683</td>\n      <td>99</td>\n      <td>patient 99</td>\n      <td>First consult</td>\n      <td>Dr. Bob</td>\n      <td>2017-05-18 11:57:11</td>\n    </tr>\n    <tr>\n      <th>684</th>\n      <td>684</td>\n      <td>99</td>\n      <td>patient 99</td>\n      <td>Blood test</td>\n      <td>Lab</td>\n      <td>2017-05-18 13:13:44</td>\n    </tr>\n    <tr>\n      <th>685</th>\n      <td>685</td>\n      <td>99</td>\n      <td>patient 99</td>\n      <td>X-ray scan</td>\n      <td>Team 2</td>\n      <td>2017-05-25 11:03:27</td>\n    </tr>\n    <tr>\n      <th>686</th>\n      <td>686</td>\n      <td>99</td>\n      <td>patient 99</td>\n      <td>Physical test</td>\n      <td>Nurse Corey</td>\n      <td>2017-05-25 11:55:24</td>\n    </tr>\n    <tr>\n      <th>687</th>\n      <td>687</td>\n      <td>99</td>\n      <td>patient 99</td>\n      <td>Second consult</td>\n      <td>Dr. Anna</td>\n      <td>2017-05-29 15:12:39</td>\n    </tr>\n    <tr>\n      <th>688</th>\n      <td>688</td>\n      <td>99</td>\n      <td>patient 99</td>\n      <td>Medicine</td>\n      <td>Pharmacy</td>\n      <td>2017-05-29 16:17:13</td>\n    </tr>\n    <tr>\n      <th>689</th>\n      <td>689</td>\n      <td>99</td>\n      <td>patient 99</td>\n      <td>Final consult</td>\n      <td>Dr. Anna</td>\n      <td>2017-05-31 12:46:43</td>\n    </tr>\n  </tbody>\n</table>\n</div>",
       "datasetInfos": [],
       "metadata": {},
       "removedWidgets": [],
       "textData": null,
       "type": "htmlSandbox"
      }
     },
     "output_type": "display_data"
    }
   ],
   "source": [
    "# 1. tail - same here\n",
    "pandasDF.tail(10)"
   ]
  },
  {
   "cell_type": "markdown",
   "metadata": {
    "application/vnd.databricks.v1+cell": {
     "cellMetadata": {
      "byteLimit": 2048000,
      "rowLimit": 10000
     },
     "inputWidgets": {},
     "nuid": "00cc8f2e-907a-4ecf-b28b-9b6b3ad069bf",
     "showTitle": false,
     "title": ""
    }
   },
   "source": [
    "### 4.2 Types of columns and description"
   ]
  },
  {
   "cell_type": "code",
   "execution_count": 0,
   "metadata": {
    "application/vnd.databricks.v1+cell": {
     "cellMetadata": {
      "byteLimit": 2048000,
      "rowLimit": 10000
     },
     "inputWidgets": {},
     "nuid": "cbde37c9-ac30-4c3b-a88b-93c045fd55c8",
     "showTitle": false,
     "title": ""
    }
   },
   "outputs": [
    {
     "output_type": "stream",
     "name": "stdout",
     "output_type": "stream",
     "text": [
      "['patient', 'action', 'org_resource', 'date_time']\n"
     ]
    }
   ],
   "source": [
    "# schema - 4 vars.\n",
    "print(df.columns)"
   ]
  },
  {
   "cell_type": "code",
   "execution_count": 0,
   "metadata": {
    "application/vnd.databricks.v1+cell": {
     "cellMetadata": {
      "byteLimit": 2048000,
      "rowLimit": 10000
     },
     "inputWidgets": {},
     "nuid": "330af39b-e33a-484c-a601-b4999ba4c457",
     "showTitle": false,
     "title": ""
    }
   },
   "outputs": [
    {
     "output_type": "stream",
     "name": "stdout",
     "output_type": "stream",
     "text": [
      "patient , StringType()\naction , StringType()\norg_resource , StringType()\ndate_time , TimestampType()\n"
     ]
    }
   ],
   "source": [
    "# types of elements\n",
    "for field in df.schema.fields:\n",
    "    print(field.name +\" , \"+str(field.dataType))"
   ]
  },
  {
   "cell_type": "markdown",
   "metadata": {
    "application/vnd.databricks.v1+cell": {
     "cellMetadata": {
      "byteLimit": 2048000,
      "rowLimit": 10000
     },
     "inputWidgets": {},
     "nuid": "42e266ce-d58a-4c06-96fd-7c90a6615955",
     "showTitle": false,
     "title": ""
    }
   },
   "source": [
    "### 4.3 Descriptive Statistics"
   ]
  },
  {
   "cell_type": "code",
   "execution_count": 0,
   "metadata": {
    "application/vnd.databricks.v1+cell": {
     "cellMetadata": {
      "byteLimit": 2048000,
      "rowLimit": 10000
     },
     "inputWidgets": {},
     "nuid": "77aebad7-e974-4836-a542-7b2540964b47",
     "showTitle": false,
     "title": ""
    }
   },
   "outputs": [
    {
     "output_type": "stream",
     "name": "stdout",
     "output_type": "stream",
     "text": [
      "+-------+----------+\n|summary|   patient|\n+-------+----------+\n|  count|       690|\n|   mean|      null|\n| stddev|      null|\n|    min| patient 0|\n|    max|patient 99|\n+-------+----------+\n\nNone\n+-------+-----------+\n|summary|     action|\n+-------+-----------+\n|  count|        690|\n|   mean|       null|\n| stddev|       null|\n|    min| Blood test|\n|    max| X-ray scan|\n+-------+-----------+\n\nNone\n+-------+------------+\n|summary|org_resource|\n+-------+------------+\n|  count|         690|\n|   mean|        null|\n| stddev|        null|\n|    min|    Dr. Alex|\n|    max|      Team 2|\n+-------+------------+\n\nNone\n+-------+\n|summary|\n+-------+\n|  count|\n|   mean|\n| stddev|\n|    min|\n|    max|\n+-------+\n\nNone\n"
     ]
    }
   ],
   "source": [
    "# get descriptive statistics for all columns\n",
    "print(df.select('patient').describe().show())\n",
    "print(df.select('action').describe().show())\n",
    "print(df.select('org_resource').describe().show())\n",
    "print(df.select('date_time').describe().show())"
   ]
  },
  {
   "cell_type": "code",
   "execution_count": 0,
   "metadata": {
    "application/vnd.databricks.v1+cell": {
     "cellMetadata": {
      "byteLimit": 2048000,
      "rowLimit": 10000
     },
     "inputWidgets": {},
     "nuid": "6921891c-0b9b-46e3-a487-12d625b1dc49",
     "showTitle": false,
     "title": ""
    }
   },
   "outputs": [
    {
     "output_type": "stream",
     "name": "stdout",
     "output_type": "stream",
     "text": [
      "False\n"
     ]
    }
   ],
   "source": [
    "# any missing values?\n",
    "print(pandasDF.isnull().values.any())\n",
    "\n",
    "# alternatively in pyspark\n",
    "# df.select(\"patient\", \"action\", \"org_resource\", \"date_time\").filter(col(\"patient\")).isNull().count()"
   ]
  },
  {
   "cell_type": "code",
   "execution_count": 0,
   "metadata": {
    "application/vnd.databricks.v1+cell": {
     "cellMetadata": {
      "byteLimit": 2048000,
      "rowLimit": 10000
     },
     "inputWidgets": {},
     "nuid": "76a9dc38-1f13-46d2-9914-7a7b26bbd8ba",
     "showTitle": false,
     "title": ""
    }
   },
   "outputs": [
    {
     "output_type": "stream",
     "name": "stdout",
     "output_type": "stream",
     "text": [
      "+-----------------+----------------+------------------+-------------------+\n|distinct_patients|distinct_actions|distinct_resources|distinct_date_times|\n+-----------------+----------------+------------------+-------------------+\n|              100|               8|                13|                690|\n+-----------------+----------------+------------------+-------------------+\n\n"
     ]
    }
   ],
   "source": [
    "# get distinct amount of patients / actions / resources\n",
    "distinct_patients = F.countDistinct(\"patient\").alias(\"distinct_patients\")\n",
    "distinct_actions = F.countDistinct(\"action\").alias(\"distinct_actions\")\n",
    "distinct_resources = F.countDistinct(\"org_resource\").alias(\"distinct_resources\")\n",
    "distinct_date_times = F.countDistinct(\"date_time\").alias(\"distinct_date_times\")\n",
    "\n",
    "df.select(distinct_patients, distinct_actions, distinct_resources, distinct_date_times).show()"
   ]
  },
  {
   "cell_type": "code",
   "execution_count": 0,
   "metadata": {
    "application/vnd.databricks.v1+cell": {
     "cellMetadata": {
      "byteLimit": 2048000,
      "rowLimit": 10000
     },
     "inputWidgets": {},
     "nuid": "e183333d-859a-4cb1-b40d-40cd05e746b9",
     "showTitle": false,
     "title": ""
    }
   },
   "outputs": [
    {
     "output_type": "stream",
     "name": "stdout",
     "output_type": "stream",
     "text": [
      "+-------------------+-------------------+\n|           earliest|             latest|\n+-------------------+-------------------+\n|2017-01-02 11:40:11|2017-05-31 14:16:13|\n+-------------------+-------------------+\n\n"
     ]
    }
   ],
   "source": [
    "# date range of date_time\n",
    "earliest_date = F.min('date_time').alias('earliest')\n",
    "latest_date = F.max(\"date_time\").alias('latest')\n",
    "\n",
    "df.select(earliest_date, latest_date).show()"
   ]
  },
  {
   "cell_type": "code",
   "execution_count": 0,
   "metadata": {
    "application/vnd.databricks.v1+cell": {
     "cellMetadata": {
      "byteLimit": 2048000,
      "rowLimit": 10000
     },
     "inputWidgets": {},
     "nuid": "a32c0773-48a1-43d0-9d55-6c013b10edf9",
     "showTitle": false,
     "title": ""
    }
   },
   "outputs": [
    {
     "output_type": "stream",
     "name": "stdout",
     "output_type": "stream",
     "text": [
      "+---------+---------------+------------+-------------------+----------+\n|  patient|         action|org_resource|          date_time|      date|\n+---------+---------------+------------+-------------------+----------+\n|patient 0|  First consult|    Dr. Anna|2017-01-02 11:40:11|2017-01-02|\n|patient 0|     Blood test|         Lab|2017-01-02 12:47:33|2017-01-02|\n|patient 0|  Physical test| Nurse Jesse|2017-01-02 12:53:50|2017-01-02|\n|patient 0| Second consult|    Dr. Anna|2017-01-02 16:21:06|2017-01-02|\n|patient 0|        Surgery| Dr. Charlie|2017-01-05 13:23:09|2017-01-05|\n|patient 0|  Final consult|     Dr. Ben|2017-01-09 08:29:28|2017-01-09|\n|patient 1|  First consult|    Dr. Anna|2017-01-02 12:50:35|2017-01-02|\n|patient 1|  Physical test| Nurse Jesse|2017-01-02 13:59:14|2017-01-02|\n|patient 1|     Blood test|         Lab|2017-01-02 14:20:19|2017-01-02|\n|patient 1|     X-ray scan|      Team 1|2017-01-06 09:13:40|2017-01-06|\n|patient 1| Second consult|    Dr. Anna|2017-01-06 10:38:04|2017-01-06|\n|patient 1|       Medicine|    Pharmacy|2017-01-06 11:47:36|2017-01-06|\n|patient 1|  Final consult|    Dr. Anna|2017-01-06 16:49:21|2017-01-06|\n|patient 2|  First consult|    Dr. Anna|2017-01-04 10:02:49|2017-01-04|\n|patient 2|  Physical test| Nurse Jesse|2017-01-06 09:05:01|2017-01-06|\n|patient 2|     X-ray scan|      Team 2|2017-01-10 08:05:47|2017-01-10|\n|patient 2|     Blood test|         Lab|2017-01-10 09:12:09|2017-01-10|\n|patient 2| Second consult|    Dr. Anna|2017-01-12 16:32:00|2017-01-12|\n|patient 2|       Medicine|    Pharmacy|2017-01-13 10:32:51|2017-01-13|\n|patient 2|  Final consult|     Dr. Ben|2017-01-17 11:54:48|2017-01-17|\n+---------+---------------+------------+-------------------+----------+\nonly showing top 20 rows\n\n"
     ]
    }
   ],
   "source": [
    "# create date without time / hour / min / seconds cols\n",
    "df = df.withColumn(\"date\", F.to_date(df.date_time))\n",
    "df.show()"
   ]
  },
  {
   "cell_type": "markdown",
   "metadata": {
    "application/vnd.databricks.v1+cell": {
     "cellMetadata": {
      "byteLimit": 2048000,
      "rowLimit": 10000
     },
     "inputWidgets": {},
     "nuid": "4185ad3a-9dfc-49f4-966f-f7bfd92ac344",
     "showTitle": false,
     "title": ""
    }
   },
   "source": [
    "### 4.4 Plots & Questions"
   ]
  },
  {
   "cell_type": "code",
   "execution_count": 0,
   "metadata": {
    "application/vnd.databricks.v1+cell": {
     "cellMetadata": {
      "byteLimit": 2048000,
      "rowLimit": 10000
     },
     "inputWidgets": {},
     "nuid": "0c547516-58c9-4d2f-87eb-cfe14150e7c4",
     "showTitle": true,
     "title": "Actions"
    }
   },
   "outputs": [
    {
     "output_type": "display_data",
     "data": {
      "image/png": "[encoded data removed]"
     },
     "metadata": {
      "application/vnd.databricks.v1+output": {
       "addedWidgets": {},
       "arguments": {},
       "data": "data:image/png;base64,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\n",
       "datasetInfos": [],
       "metadata": {},
       "removedWidgets": [],
       "type": "image"
      }
     },
     "output_type": "display_data"
    }
   ],
   "source": [
    "import matplotlib.pyplot as plt\n",
    "import seaborn as sns\n",
    "\n",
    "# time series plot of actions sorted --> bit boring\n",
    "pandasDF['date_time'] = pd.to_datetime(pandasDF[\"date_time\"])\n",
    "pandasDF['date'] = pandasDF['date_time'].dt.date\n",
    "groupedByDateDF = pandasDF.groupby(pandasDF['date']).size().reset_index(name='Count')\n",
    "plt.plot(groupedByDateDF['date'], groupedByDateDF['Count'])\n",
    "plt.show()\n"
   ]
  },
  {
   "cell_type": "code",
   "execution_count": 0,
   "metadata": {
    "application/vnd.databricks.v1+cell": {
     "cellMetadata": {
      "byteLimit": 2048000,
      "rowLimit": 10000
     },
     "inputWidgets": {},
     "nuid": "9ded945e-3f74-4357-a862-f9b3f79bcdb1",
     "showTitle": false,
     "title": ""
    }
   },
   "outputs": [
    {
     "output_type": "display_data",
     "data": {
      "image/png": "[encoded data removed]"
     },
     "metadata": {
      "application/vnd.databricks.v1+output": {
       "addedWidgets": {},
       "arguments": {},
       "data": "data:image/png;base64,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\n",
       "datasetInfos": [],
       "metadata": {},
       "removedWidgets": [],
       "type": "image"
      }
     },
     "output_type": "display_data"
    }
   ],
   "source": [
    "# with rolling avg\n",
    "groupedByDateDF[ '7day_rolling_avg' ] = groupedByDateDF.Count.rolling( 7).mean()\n",
    "\n",
    "# set figure size\n",
    "plt.figure( figsize = ( 12, 5))\n",
    "  \n",
    "# plot a simple time series plot\n",
    "# using seaborn.lineplot()\n",
    "sns.lineplot(x = 'date',\n",
    "             y = 'Count',\n",
    "             data = groupedByDateDF,\n",
    "             label = 'Actions')\n",
    "  \n",
    "# plot using rolling average\n",
    "sns.lineplot( x = 'date', y = '7day_rolling_avg', data = groupedByDateDF, label = 'Rolling Avg')\n",
    "\n",
    "plt.show()"
   ]
  },
  {
   "cell_type": "code",
   "execution_count": 0,
   "metadata": {
    "application/vnd.databricks.v1+cell": {
     "cellMetadata": {
      "byteLimit": 2048000,
      "rowLimit": 10000
     },
     "inputWidgets": {},
     "nuid": "bdd11809-e775-4745-9e01-2d27d239cd3b",
     "showTitle": false,
     "title": ""
    }
   },
   "outputs": [
    {
     "output_type": "stream",
     "name": "stdout",
     "output_type": "stream",
     "text": [
      "Day with Max Events:  2017-04-19\nMax Events:  16\n"
     ]
    }
   ],
   "source": [
    "# day with most actions\n",
    "print(\"Day with Max Events: \", groupedByDateDF.loc[groupedByDateDF.Count == groupedByDateDF.Count.max()]['date'].item())\n",
    "print(\"Max Events: \", groupedByDateDF.loc[groupedByDateDF.Count == groupedByDateDF.Count.max()]['Count'].item())"
   ]
  },
  {
   "cell_type": "code",
   "execution_count": 0,
   "metadata": {
    "application/vnd.databricks.v1+cell": {
     "cellMetadata": {
      "byteLimit": 2048000,
      "rowLimit": 10000
     },
     "inputWidgets": {},
     "nuid": "64b7add0-f922-4384-9a66-361fe8509409",
     "showTitle": false,
     "title": ""
    }
   },
   "outputs": [
    {
     "output_type": "display_data",
     "data": {
      "text/html": [
       "<div>\n",
       "<style scoped>\n",
       "    .dataframe tbody tr th:only-of-type {\n",
       "        vertical-align: middle;\n",
       "    }\n",
       "\n",
       "    .dataframe tbody tr th {\n",
       "        vertical-align: top;\n",
       "    }\n",
       "\n",
       "    .dataframe thead th {\n",
       "        text-align: right;\n",
       "    }\n",
       "</style>\n",
       "<table border=\"1\" class=\"dataframe\">\n",
       "  <thead>\n",
       "    <tr style=\"text-align: right;\">\n",
       "      <th></th>\n",
       "      <th>action</th>\n",
       "      <th>org_resource</th>\n",
       "    </tr>\n",
       "  </thead>\n",
       "  <tbody>\n",
       "    <tr>\n",
       "      <th>511</th>\n",
       "      <td>Blood test</td>\n",
       "      <td>Lab</td>\n",
       "    </tr>\n",
       "    <tr>\n",
       "      <th>524</th>\n",
       "      <td>Blood test</td>\n",
       "      <td>Lab</td>\n",
       "    </tr>\n",
       "    <tr>\n",
       "      <th>531</th>\n",
       "      <td>Blood test</td>\n",
       "      <td>Lab</td>\n",
       "    </tr>\n",
       "    <tr>\n",
       "      <th>523</th>\n",
       "      <td>First consult</td>\n",
       "      <td>Dr. Bob</td>\n",
       "    </tr>\n",
       "    <tr>\n",
       "      <th>530</th>\n",
       "      <td>First consult</td>\n",
       "      <td>Dr. Anna</td>\n",
       "    </tr>\n",
       "    <tr>\n",
       "      <th>493</th>\n",
       "      <td>Medicine</td>\n",
       "      <td>Pharmacy</td>\n",
       "    </tr>\n",
       "    <tr>\n",
       "      <th>528</th>\n",
       "      <td>Medicine</td>\n",
       "      <td>Pharmacy</td>\n",
       "    </tr>\n",
       "    <tr>\n",
       "      <th>498</th>\n",
       "      <td>Physical test</td>\n",
       "      <td>Nurse Corey</td>\n",
       "    </tr>\n",
       "    <tr>\n",
       "      <th>510</th>\n",
       "      <td>Physical test</td>\n",
       "      <td>Nurse Jesse</td>\n",
       "    </tr>\n",
       "    <tr>\n",
       "      <th>518</th>\n",
       "      <td>Physical test</td>\n",
       "      <td>Nurse Jesse</td>\n",
       "    </tr>\n",
       "    <tr>\n",
       "      <th>526</th>\n",
       "      <td>Physical test</td>\n",
       "      <td>Nurse Corey</td>\n",
       "    </tr>\n",
       "    <tr>\n",
       "      <th>492</th>\n",
       "      <td>Second consult</td>\n",
       "      <td>Dr. Anna</td>\n",
       "    </tr>\n",
       "    <tr>\n",
       "      <th>506</th>\n",
       "      <td>Second consult</td>\n",
       "      <td>Dr. Anna</td>\n",
       "    </tr>\n",
       "    <tr>\n",
       "      <th>527</th>\n",
       "      <td>Second consult</td>\n",
       "      <td>Dr. Anna</td>\n",
       "    </tr>\n",
       "    <tr>\n",
       "      <th>497</th>\n",
       "      <td>X-ray scan</td>\n",
       "      <td>Team 1</td>\n",
       "    </tr>\n",
       "    <tr>\n",
       "      <th>525</th>\n",
       "      <td>X-ray scan</td>\n",
       "      <td>Team 1</td>\n",
       "    </tr>\n",
       "  </tbody>\n",
       "</table>\n",
       "</div>"
      ]
     },
     "metadata": {
      "application/vnd.databricks.v1+output": {
       "addedWidgets": {},
       "arguments": {},
       "data": "<div>\n<style scoped>\n    .dataframe tbody tr th:only-of-type {\n        vertical-align: middle;\n    }\n\n    .dataframe tbody tr th {\n        vertical-align: top;\n    }\n\n    .dataframe thead th {\n        text-align: right;\n    }\n</style>\n<table border=\"1\" class=\"dataframe\">\n  <thead>\n    <tr style=\"text-align: right;\">\n      <th></th>\n      <th>action</th>\n      <th>org_resource</th>\n    </tr>\n  </thead>\n  <tbody>\n    <tr>\n      <th>511</th>\n      <td>Blood test</td>\n      <td>Lab</td>\n    </tr>\n    <tr>\n      <th>524</th>\n      <td>Blood test</td>\n      <td>Lab</td>\n    </tr>\n    <tr>\n      <th>531</th>\n      <td>Blood test</td>\n      <td>Lab</td>\n    </tr>\n    <tr>\n      <th>523</th>\n      <td>First consult</td>\n      <td>Dr. Bob</td>\n    </tr>\n    <tr>\n      <th>530</th>\n      <td>First consult</td>\n      <td>Dr. Anna</td>\n    </tr>\n    <tr>\n      <th>493</th>\n      <td>Medicine</td>\n      <td>Pharmacy</td>\n    </tr>\n    <tr>\n      <th>528</th>\n      <td>Medicine</td>\n      <td>Pharmacy</td>\n    </tr>\n    <tr>\n      <th>498</th>\n      <td>Physical test</td>\n      <td>Nurse Corey</td>\n    </tr>\n    <tr>\n      <th>510</th>\n      <td>Physical test</td>\n      <td>Nurse Jesse</td>\n    </tr>\n    <tr>\n      <th>518</th>\n      <td>Physical test</td>\n      <td>Nurse Jesse</td>\n    </tr>\n    <tr>\n      <th>526</th>\n      <td>Physical test</td>\n      <td>Nurse Corey</td>\n    </tr>\n    <tr>\n      <th>492</th>\n      <td>Second consult</td>\n      <td>Dr. Anna</td>\n    </tr>\n    <tr>\n      <th>506</th>\n      <td>Second consult</td>\n      <td>Dr. Anna</td>\n    </tr>\n    <tr>\n      <th>527</th>\n      <td>Second consult</td>\n      <td>Dr. Anna</td>\n    </tr>\n    <tr>\n      <th>497</th>\n      <td>X-ray scan</td>\n      <td>Team 1</td>\n    </tr>\n    <tr>\n      <th>525</th>\n      <td>X-ray scan</td>\n      <td>Team 1</td>\n    </tr>\n  </tbody>\n</table>\n</div>",
       "datasetInfos": [],
       "metadata": {},
       "removedWidgets": [],
       "textData": null,
       "type": "htmlSandbox"
      }
     },
     "output_type": "display_data"
    }
   ],
   "source": [
    "# which actions happened on that peak date\n",
    "\n",
    "from datetime import date\n",
    "peak_actions_date = date(2017, 4, 19)\n",
    "\n",
    "peak_actions_date\n",
    "pandasDF[pandasDF.date == peak_actions_date][['action', 'org_resource']].sort_values('action')"
   ]
  },
  {
   "cell_type": "code",
   "execution_count": 0,
   "metadata": {
    "application/vnd.databricks.v1+cell": {
     "cellMetadata": {
      "byteLimit": 2048000,
      "rowLimit": 10000
     },
     "inputWidgets": {},
     "nuid": "a6b8a488-6670-4da9-a478-0ec17686256b",
     "showTitle": false,
     "title": ""
    }
   },
   "outputs": [
    {
     "output_type": "stream",
     "name": "stdout",
     "output_type": "stream",
     "text": [
      "Days with Least Events: \n            date  Count  7day_rolling_avg\n1    2017-01-04      1               NaN\n9    2017-01-16      1          4.428571\n60   2017-03-28      1          6.714286\n95   2017-05-16      1          7.571429\n101  2017-05-24      1          4.714286\n105  2017-05-30      1          2.857143\n"
     ]
    }
   ],
   "source": [
    "# days with least actions\n",
    "print(\"Days with Least Events: \\n\", groupedByDateDF.loc[groupedByDateDF.Count == groupedByDateDF.Count.min()].sort_values(\"date\"))"
   ]
  },
  {
   "cell_type": "code",
   "execution_count": 0,
   "metadata": {
    "application/vnd.databricks.v1+cell": {
     "cellMetadata": {
      "byteLimit": 2048000,
      "rowLimit": 10000
     },
     "inputWidgets": {},
     "nuid": "bafd9eea-0b48-47b8-b28d-dacfb8038c77",
     "showTitle": false,
     "title": ""
    }
   },
   "outputs": [
    {
     "output_type": "stream",
     "name": "stdout",
     "output_type": "stream",
     "text": [
      "Avg actions per day:  6.45\n"
     ]
    }
   ],
   "source": [
    "# avg amount of actions per day\n",
    "print('Avg actions per day: ', round(groupedByDateDF.Count.mean(), 2))"
   ]
  },
  {
   "cell_type": "code",
   "execution_count": 0,
   "metadata": {
    "application/vnd.databricks.v1+cell": {
     "cellMetadata": {
      "byteLimit": 2048000,
      "rowLimit": 10000
     },
     "inputWidgets": {},
     "nuid": "f444d95c-3e38-4713-bf16-ab59fb270111",
     "showTitle": false,
     "title": ""
    }
   },
   "outputs": [
    {
     "output_type": "stream",
     "name": "stdout",
     "output_type": "stream",
     "text": [
      "07:31  -  18:13\n"
     ]
    }
   ],
   "source": [
    "# what are the operating hours\n",
    "pandasDF['time'] = pandasDF['date_time'].dt.strftime('%H:%M')\n",
    "pandasDF.head()\n",
    "\n",
    "# the operating hours of the system\n",
    "print(min(pandasDF.time), \" - \", max(pandasDF.time))"
   ]
  },
  {
   "cell_type": "code",
   "execution_count": 0,
   "metadata": {
    "application/vnd.databricks.v1+cell": {
     "cellMetadata": {
      "byteLimit": 2048000,
      "rowLimit": 10000
     },
     "inputWidgets": {},
     "nuid": "b0d765d4-8844-4d15-98ad-5f46ce961ff8",
     "showTitle": true,
     "title": "Resources"
    }
   },
   "outputs": [
    {
     "output_type": "display_data",
     "data": {
      "image/png": "[encoded data removed]"
     },
     "metadata": {
      "application/vnd.databricks.v1+output": {
       "addedWidgets": {},
       "arguments": {},
       "data": "data:image/png;base64,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\n",
       "datasetInfos": [],
       "metadata": {},
       "removedWidgets": [],
       "type": "image"
      }
     },
     "output_type": "display_data"
    }
   ],
   "source": [
    "# which resource does which action\n",
    "(pandasDF.groupby('org_resource')['action'].value_counts(normalize=True)\n",
    "   .unstack('action').plot.bar(stacked=True)\n",
    ")\n",
    "\n",
    "plt.legend(loc='center left', bbox_to_anchor=(1, 0.5))\n",
    "\n",
    "plt.show()"
   ]
  },
  {
   "cell_type": "code",
   "execution_count": 0,
   "metadata": {
    "application/vnd.databricks.v1+cell": {
     "cellMetadata": {
      "byteLimit": 2048000,
      "rowLimit": 10000
     },
     "inputWidgets": {},
     "nuid": "be29b6fe-62d0-4366-a2ff-3c4581ac5d6e",
     "showTitle": false,
     "title": ""
    }
   },
   "outputs": [
    {
     "output_type": "display_data",
     "data": {
      "text/html": [
       "<div>\n",
       "<style scoped>\n",
       "    .dataframe tbody tr th:only-of-type {\n",
       "        vertical-align: middle;\n",
       "    }\n",
       "\n",
       "    .dataframe tbody tr th {\n",
       "        vertical-align: top;\n",
       "    }\n",
       "\n",
       "    .dataframe thead th {\n",
       "        text-align: right;\n",
       "    }\n",
       "</style>\n",
       "<table border=\"1\" class=\"dataframe\">\n",
       "  <thead>\n",
       "    <tr style=\"text-align: right;\">\n",
       "      <th></th>\n",
       "      <th>index</th>\n",
       "      <th>org_resource</th>\n",
       "      <th>action</th>\n",
       "      <th>patient</th>\n",
       "    </tr>\n",
       "  </thead>\n",
       "  <tbody>\n",
       "    <tr>\n",
       "      <th>0</th>\n",
       "      <td>10</td>\n",
       "      <td>Lab</td>\n",
       "      <td>Blood test</td>\n",
       "      <td>100</td>\n",
       "    </tr>\n",
       "    <tr>\n",
       "      <th>1</th>\n",
       "      <td>13</td>\n",
       "      <td>Pharmacy</td>\n",
       "      <td>Medicine</td>\n",
       "      <td>80</td>\n",
       "    </tr>\n",
       "    <tr>\n",
       "      <th>2</th>\n",
       "      <td>12</td>\n",
       "      <td>Nurse Jesse</td>\n",
       "      <td>Physical test</td>\n",
       "      <td>57</td>\n",
       "    </tr>\n",
       "    <tr>\n",
       "      <th>3</th>\n",
       "      <td>3</td>\n",
       "      <td>Dr. Anna</td>\n",
       "      <td>Second consult</td>\n",
       "      <td>55</td>\n",
       "    </tr>\n",
       "    <tr>\n",
       "      <th>4</th>\n",
       "      <td>2</td>\n",
       "      <td>Dr. Anna</td>\n",
       "      <td>First consult</td>\n",
       "      <td>53</td>\n",
       "    </tr>\n",
       "    <tr>\n",
       "      <th>5</th>\n",
       "      <td>1</td>\n",
       "      <td>Dr. Anna</td>\n",
       "      <td>Final consult</td>\n",
       "      <td>50</td>\n",
       "    </tr>\n",
       "    <tr>\n",
       "      <th>6</th>\n",
       "      <td>4</td>\n",
       "      <td>Dr. Ben</td>\n",
       "      <td>Final consult</td>\n",
       "      <td>50</td>\n",
       "    </tr>\n",
       "    <tr>\n",
       "      <th>7</th>\n",
       "      <td>15</td>\n",
       "      <td>Team 2</td>\n",
       "      <td>X-ray scan</td>\n",
       "      <td>50</td>\n",
       "    </tr>\n",
       "    <tr>\n",
       "      <th>8</th>\n",
       "      <td>5</td>\n",
       "      <td>Dr. Bob</td>\n",
       "      <td>First consult</td>\n",
       "      <td>47</td>\n",
       "    </tr>\n",
       "    <tr>\n",
       "      <th>9</th>\n",
       "      <td>6</td>\n",
       "      <td>Dr. Bob</td>\n",
       "      <td>Second consult</td>\n",
       "      <td>45</td>\n",
       "    </tr>\n",
       "    <tr>\n",
       "      <th>10</th>\n",
       "      <td>11</td>\n",
       "      <td>Nurse Corey</td>\n",
       "      <td>Physical test</td>\n",
       "      <td>43</td>\n",
       "    </tr>\n",
       "    <tr>\n",
       "      <th>11</th>\n",
       "      <td>14</td>\n",
       "      <td>Team 1</td>\n",
       "      <td>X-ray scan</td>\n",
       "      <td>40</td>\n",
       "    </tr>\n",
       "    <tr>\n",
       "      <th>12</th>\n",
       "      <td>9</td>\n",
       "      <td>Dr. Rudy</td>\n",
       "      <td>Surgery</td>\n",
       "      <td>7</td>\n",
       "    </tr>\n",
       "    <tr>\n",
       "      <th>13</th>\n",
       "      <td>0</td>\n",
       "      <td>Dr. Alex</td>\n",
       "      <td>Surgery</td>\n",
       "      <td>5</td>\n",
       "    </tr>\n",
       "    <tr>\n",
       "      <th>14</th>\n",
       "      <td>7</td>\n",
       "      <td>Dr. Charlie</td>\n",
       "      <td>Surgery</td>\n",
       "      <td>5</td>\n",
       "    </tr>\n",
       "    <tr>\n",
       "      <th>15</th>\n",
       "      <td>8</td>\n",
       "      <td>Dr. Quinn</td>\n",
       "      <td>Surgery</td>\n",
       "      <td>3</td>\n",
       "    </tr>\n",
       "  </tbody>\n",
       "</table>\n",
       "</div>"
      ]
     },
     "metadata": {
      "application/vnd.databricks.v1+output": {
       "addedWidgets": {},
       "arguments": {},
       "data": "<div>\n<style scoped>\n    .dataframe tbody tr th:only-of-type {\n        vertical-align: middle;\n    }\n\n    .dataframe tbody tr th {\n        vertical-align: top;\n    }\n\n    .dataframe thead th {\n        text-align: right;\n    }\n</style>\n<table border=\"1\" class=\"dataframe\">\n  <thead>\n    <tr style=\"text-align: right;\">\n      <th></th>\n      <th>index</th>\n      <th>org_resource</th>\n      <th>action</th>\n      <th>patient</th>\n    </tr>\n  </thead>\n  <tbody>\n    <tr>\n      <th>0</th>\n      <td>10</td>\n      <td>Lab</td>\n      <td>Blood test</td>\n      <td>100</td>\n    </tr>\n    <tr>\n      <th>1</th>\n      <td>13</td>\n      <td>Pharmacy</td>\n      <td>Medicine</td>\n      <td>80</td>\n    </tr>\n    <tr>\n      <th>2</th>\n      <td>12</td>\n      <td>Nurse Jesse</td>\n      <td>Physical test</td>\n      <td>57</td>\n    </tr>\n    <tr>\n      <th>3</th>\n      <td>3</td>\n      <td>Dr. Anna</td>\n      <td>Second consult</td>\n      <td>55</td>\n    </tr>\n    <tr>\n      <th>4</th>\n      <td>2</td>\n      <td>Dr. Anna</td>\n      <td>First consult</td>\n      <td>53</td>\n    </tr>\n    <tr>\n      <th>5</th>\n      <td>1</td>\n      <td>Dr. Anna</td>\n      <td>Final consult</td>\n      <td>50</td>\n    </tr>\n    <tr>\n      <th>6</th>\n      <td>4</td>\n      <td>Dr. Ben</td>\n      <td>Final consult</td>\n      <td>50</td>\n    </tr>\n    <tr>\n      <th>7</th>\n      <td>15</td>\n      <td>Team 2</td>\n      <td>X-ray scan</td>\n      <td>50</td>\n    </tr>\n    <tr>\n      <th>8</th>\n      <td>5</td>\n      <td>Dr. Bob</td>\n      <td>First consult</td>\n      <td>47</td>\n    </tr>\n    <tr>\n      <th>9</th>\n      <td>6</td>\n      <td>Dr. Bob</td>\n      <td>Second consult</td>\n      <td>45</td>\n    </tr>\n    <tr>\n      <th>10</th>\n      <td>11</td>\n      <td>Nurse Corey</td>\n      <td>Physical test</td>\n      <td>43</td>\n    </tr>\n    <tr>\n      <th>11</th>\n      <td>14</td>\n      <td>Team 1</td>\n      <td>X-ray scan</td>\n      <td>40</td>\n    </tr>\n    <tr>\n      <th>12</th>\n      <td>9</td>\n      <td>Dr. Rudy</td>\n      <td>Surgery</td>\n      <td>7</td>\n    </tr>\n    <tr>\n      <th>13</th>\n      <td>0</td>\n      <td>Dr. Alex</td>\n      <td>Surgery</td>\n      <td>5</td>\n    </tr>\n    <tr>\n      <th>14</th>\n      <td>7</td>\n      <td>Dr. Charlie</td>\n      <td>Surgery</td>\n      <td>5</td>\n    </tr>\n    <tr>\n      <th>15</th>\n      <td>8</td>\n      <td>Dr. Quinn</td>\n      <td>Surgery</td>\n      <td>3</td>\n    </tr>\n  </tbody>\n</table>\n</div>",
       "datasetInfos": [],
       "metadata": {},
       "removedWidgets": [],
       "textData": null,
       "type": "htmlSandbox"
      }
     },
     "output_type": "display_data"
    }
   ],
   "source": [
    "# how many actions do each resources have to do ? --> who should get a pay raise / has the bottleneck\n",
    "pandasDF.groupby(['org_resource','action'])[['patient']].count().reset_index().sort_values('patient', ascending=False).reset_index()"
   ]
  },
  {
   "cell_type": "code",
   "execution_count": 0,
   "metadata": {
    "application/vnd.databricks.v1+cell": {
     "cellMetadata": {
      "byteLimit": 2048000,
      "rowLimit": 10000
     },
     "inputWidgets": {},
     "nuid": "92886cc5-901d-45f7-9180-43b783a363a5",
     "showTitle": true,
     "title": "Patients"
    }
   },
   "outputs": [
    {
     "output_type": "stream",
     "name": "stdout",
     "output_type": "stream",
     "text": [
      "Out[277]: False"
     ]
    }
   ],
   "source": [
    "# have all patients received final consult?\n",
    "len(pandasDF[pandasDF['action'] == ' Final consult']) == 100"
   ]
  },
  {
   "cell_type": "code",
   "execution_count": 0,
   "metadata": {
    "application/vnd.databricks.v1+cell": {
     "cellMetadata": {
      "byteLimit": 2048000,
      "rowLimit": 10000
     },
     "inputWidgets": {},
     "nuid": "c57e2b3b-55b5-4af9-bf4e-552be87b14ce",
     "showTitle": false,
     "title": ""
    }
   },
   "outputs": [
    {
     "output_type": "display_data",
     "data": {
      "image/png": "[encoded data removed]"
     },
     "metadata": {
      "application/vnd.databricks.v1+output": {
       "addedWidgets": {},
       "arguments": {},
       "data": "data:image/png;base64,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\n",
       "datasetInfos": [],
       "metadata": {},
       "removedWidgets": [],
       "type": "image"
      }
     },
     "output_type": "display_data"
    }
   ],
   "source": [
    "# how many patients have received surgery\n",
    "groupBySurgery = pandasDF.loc[(pandasDF.action == 'Surgery') | (pandasDF.action == 'Medicine')].groupby('action', as_index=False).agg({'patient': 'nunique'})\n",
    "\n",
    "plot = groupBySurgery.plot.pie(y = 'patient', labels= list(groupBySurgery.action.unique()), legend = False, autopct='%1.1f%%', explode= (0, 0.1), shadow=True, startangle=0)\n",
    "plot.set_ylabel('')\n",
    "plt.show()"
   ]
  },
  {
   "cell_type": "code",
   "execution_count": 0,
   "metadata": {
    "application/vnd.databricks.v1+cell": {
     "cellMetadata": {
      "byteLimit": 2048000,
      "rowLimit": 10000
     },
     "inputWidgets": {},
     "nuid": "3b75b809-d6b0-4c51-9a17-58421cd7a10f",
     "showTitle": true,
     "title": "Treatment Procedures"
    }
   },
   "outputs": [],
   "source": [
    "# treatment_steps sorted by date\n",
    "pandasDF = pandasDF.sort_values([\"patient\", \"date_time\"])\n",
    "pandasDF[\"treatment_step\"] = pandasDF.groupby(pandasDF['patient']).cumcount()\n",
    "pandasDF[\"treatment_step_action\"] = pandasDF.apply(lambda item: f'{item[\"treatment_step\"]} {item[\"action\"]}', axis=1)"
   ]
  },
  {
   "cell_type": "code",
   "execution_count": 0,
   "metadata": {
    "application/vnd.databricks.v1+cell": {
     "cellMetadata": {
      "byteLimit": 2048000,
      "rowLimit": 10000
     },
     "inputWidgets": {},
     "nuid": "428074e8-5b58-4883-a39e-561162dfd2d6",
     "showTitle": false,
     "title": ""
    }
   },
   "outputs": [
    {
     "output_type": "stream",
     "name": "stdout",
     "output_type": "stream",
     "text": [
      "t1 _________\n0 First consult - 1 Blood test - 2 Physical test - 3 Second consult - 4 Surgery - 5 Final consult\nt2 _________\n0 First consult - 1 Physical test - 2 Blood test - 3 X-ray scan - 4 Second consult - 5 Medicine - 6 Final consult\nt3 _________\n0 First consult - 1 Physical test - 2 Blood test - 3 X-ray scan - 4 Second consult - 5 Surgery - 6 Final consult\nt4 _________\n0 First consult - 1 Blood test - 2 X-ray scan - 3 Physical test - 4 Second consult - 5 Medicine - 6 Final consult\nt5 _________\n0 First consult - 1 X-ray scan - 2 Physical test - 3 Blood test - 4 Second consult - 5 Medicine - 6 Final consult\nt6 _________\n0 First consult - 1 Physical test - 2 Blood test - 3 Second consult - 4 Medicine - 5 Final consult\nt7 _________\n0 First consult - 1 Physical test - 2 X-ray scan - 3 Blood test - 4 Second consult - 5 Medicine - 6 Final consult\nt8 _________\n0 First consult - 1 X-ray scan - 2 Blood test - 3 Physical test - 4 Second consult - 5 Medicine - 6 Final consult\nt9 _________\n0 First consult - 1 Blood test - 2 Physical test - 3 X-ray scan - 4 Second consult - 5 Medicine - 6 Final consult\nt10 _________\n0 First consult - 1 X-ray scan - 2 Blood test - 3 Physical test - 4 Second consult - 5 Surgery - 6 Final consult\nt11 _________\n0 First consult - 1 Physical test - 2 Blood test - 3 Second consult - 4 Surgery - 5 Final consult\nt12 _________\n0 First consult - 1 Blood test - 2 Physical test - 3 Second consult - 4 Medicine - 5 Final consult\nt13 _________\n0 First consult - 1 Physical test - 2 X-ray scan - 3 Blood test - 4 Second consult - 5 Surgery - 6 Final consult\nt14 _________\n0 First consult - 1 X-ray scan - 2 Physical test - 3 Blood test - 4 Second consult - 5 Surgery - 6 Final consult\nt15 _________\n0 First consult - 1 Blood test - 2 Physical test - 3 X-ray scan - 4 Second consult - 5 Surgery - 6 Final consult\n"
     ]
    }
   ],
   "source": [
    "# get possible treatment procedures\n",
    "treatments = []\n",
    "tempTreatment = []\n",
    "for temp_patient in pandasDF.patient.unique():\n",
    "    tempTreatment = list(pandasDF.loc[pandasDF['patient'] == f'{temp_patient}'].treatment_step_action.unique())\n",
    "    if tempTreatment not in treatments:\n",
    "        treatments.append(tempTreatment)\n",
    "\n",
    "# name the procedures t1-t15 and print them\n",
    "named_procedures = {}\n",
    "\n",
    "for index, item in enumerate(treatments, start=0):\n",
    "    named_procedures[f't{index + 1}'] = item\n",
    "    print(f't{index + 1}', '_________')\n",
    "    print(' - '.join(item))"
   ]
  },
  {
   "cell_type": "code",
   "execution_count": 0,
   "metadata": {
    "application/vnd.databricks.v1+cell": {
     "cellMetadata": {
      "byteLimit": 2048000,
      "rowLimit": 10000
     },
     "inputWidgets": {},
     "nuid": "97682581-93b7-4d8b-a8c7-adc72d1b91d9",
     "showTitle": false,
     "title": ""
    }
   },
   "outputs": [
    {
     "output_type": "stream",
     "name": "stdout",
     "output_type": "stream",
     "text": [
      "unique procedures:  15\n"
     ]
    }
   ],
   "source": [
    "# how many procedures are there?\n",
    "print('unique procedures: ',  len(treatments))"
   ]
  },
  {
   "cell_type": "code",
   "execution_count": 0,
   "metadata": {
    "application/vnd.databricks.v1+cell": {
     "cellMetadata": {
      "byteLimit": 2048000,
      "rowLimit": 10000
     },
     "inputWidgets": {},
     "nuid": "8a136499-209f-40a4-acb9-cbfadcd6f1ee",
     "showTitle": false,
     "title": ""
    }
   },
   "outputs": [],
   "source": [
    "# assign treatment procedure to patients\n",
    "\n",
    "# initialize\n",
    "pandasDF['treatment_procedure'] = None\n",
    "\n",
    "def setPatientProcedure(patient):\n",
    "    patientProcedureTemp = list(pandasDF[pandasDF.patient == patient]['treatment_step_action'])\n",
    "    return [k for k, v in named_procedures.items() if v == patientProcedureTemp][0]\n",
    "\n",
    "\n",
    "for currentPatient in list(pandasDF.patient.unique()):\n",
    "    pandasDF.loc[pandasDF.patient == currentPatient, 'treatment_procedure'] = setPatientProcedure(currentPatient)"
   ]
  },
  {
   "cell_type": "code",
   "execution_count": 0,
   "metadata": {
    "application/vnd.databricks.v1+cell": {
     "cellMetadata": {
      "byteLimit": 2048000,
      "rowLimit": 10000
     },
     "inputWidgets": {},
     "nuid": "8ed4ee8d-1847-4ea5-8faf-cbace358d583",
     "showTitle": false,
     "title": ""
    }
   },
   "outputs": [
    {
     "output_type": "display_data",
     "data": {
      "image/png": "[encoded data removed]"
     },
     "metadata": {
      "application/vnd.databricks.v1+output": {
       "addedWidgets": {},
       "arguments": {},
       "data": "data:image/png;base64,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\n",
       "datasetInfos": [],
       "metadata": {},
       "removedWidgets": [],
       "type": "image"
      }
     },
     "output_type": "display_data"
    },
    {
     "output_type": "stream",
     "name": "stdout",
     "output_type": "stream",
     "text": [
      "t4:  0 First consult - 1 X-ray scan - 2 Physical test - 3 Blood test - 4 Second consult - 5 Surgery - 6 Final consult\n"
     ]
    }
   ],
   "source": [
    "# which procedure is done how many times?\n",
    "\n",
    "from matplotlib.ticker import MaxNLocator\n",
    "import numpy as np\n",
    "\n",
    "# group by procedures and get unique patients\n",
    "count_procedures_df = pandasDF.groupby('treatment_procedure', as_index=False).agg({'patient': pd.Series.nunique}).sort_values('patient', ascending=False)\n",
    "count_procedures_df.head()\n",
    "\n",
    "# Create a figure object\n",
    "fig = plt.figure()\n",
    "\n",
    "# Add a subplot to the figure\n",
    "ax = fig.add_subplot(111)\n",
    "ax.yaxis.set_major_locator(MaxNLocator(integer=True))\n",
    "\n",
    "# Create the bar plot\n",
    "bars = ax.bar(count_procedures_df['treatment_procedure'], count_procedures_df['patient'])\n",
    "\n",
    "# Loop through the bars and add annotations\n",
    "for bar in bars:\n",
    "   height = bar.get_height()\n",
    "   ax.annotate(f'{height}', xy=(bar.get_x() + bar.get_width() / 2, height), xytext=(0, 3),\n",
    "   textcoords=\"offset points\", ha='center', va='bottom')\n",
    "\n",
    "# Show the plot\n",
    "plt.title('Count Plot Treatment Occurences')\n",
    "plt.show()\n",
    "\n",
    "print('t4: ', ' - '.join(named_procedures['t14']))"
   ]
  },
  {
   "cell_type": "code",
   "execution_count": 0,
   "metadata": {
    "application/vnd.databricks.v1+cell": {
     "cellMetadata": {
      "byteLimit": 2048000,
      "rowLimit": 10000
     },
     "inputWidgets": {},
     "nuid": "1c24cee7-7d01-4d4e-b4d7-5d69b7c0c198",
     "showTitle": false,
     "title": ""
    }
   },
   "outputs": [
    {
     "output_type": "stream",
     "name": "stdout",
     "output_type": "stream",
     "text": [
      "t1 : has 6 steps.\nt2 : has 7 steps.\nt3 : has 7 steps.\nt4 : has 7 steps.\nt5 : has 7 steps.\nt6 : has 6 steps.\nt7 : has 7 steps.\nt8 : has 7 steps.\nt9 : has 7 steps.\nt10 : has 7 steps.\nt11 : has 6 steps.\nt12 : has 6 steps.\nt13 : has 7 steps.\nt14 : has 7 steps.\nt15 : has 7 steps.\n"
     ]
    }
   ],
   "source": [
    "# how many steps does each procedure have? \n",
    "for procedure in named_procedures.items():\n",
    "    print(procedure[0], ': has', len(procedure[1]), 'steps.')"
   ]
  },
  {
   "cell_type": "code",
   "execution_count": 0,
   "metadata": {
    "application/vnd.databricks.v1+cell": {
     "cellMetadata": {
      "byteLimit": 2048000,
      "rowLimit": 10000
     },
     "inputWidgets": {},
     "nuid": "59b67c34-d51c-4224-aad9-98fd28fb69d1",
     "showTitle": true,
     "title": "Paths - Sandkey Plot"
    }
   },
   "outputs": [
    {
     "output_type": "display_data",
     "data": {
      "text/html": [
       "<div>\n",
       "<style scoped>\n",
       "    .dataframe tbody tr th:only-of-type {\n",
       "        vertical-align: middle;\n",
       "    }\n",
       "\n",
       "    .dataframe tbody tr th {\n",
       "        vertical-align: top;\n",
       "    }\n",
       "\n",
       "    .dataframe thead th {\n",
       "        text-align: right;\n",
       "    }\n",
       "</style>\n",
       "<table border=\"1\" class=\"dataframe\">\n",
       "  <thead>\n",
       "    <tr style=\"text-align: right;\">\n",
       "      <th></th>\n",
       "      <th>action</th>\n",
       "      <th>treatment_step_action</th>\n",
       "      <th>size</th>\n",
       "    </tr>\n",
       "  </thead>\n",
       "  <tbody>\n",
       "    <tr>\n",
       "      <th>0</th>\n",
       "      <td>Blood test</td>\n",
       "      <td>1 Blood test</td>\n",
       "      <td>40</td>\n",
       "    </tr>\n",
       "    <tr>\n",
       "      <th>1</th>\n",
       "      <td>Blood test</td>\n",
       "      <td>2 Blood test</td>\n",
       "      <td>32</td>\n",
       "    </tr>\n",
       "    <tr>\n",
       "      <th>2</th>\n",
       "      <td>Blood test</td>\n",
       "      <td>3 Blood test</td>\n",
       "      <td>28</td>\n",
       "    </tr>\n",
       "    <tr>\n",
       "      <th>3</th>\n",
       "      <td>Final consult</td>\n",
       "      <td>5 Final consult</td>\n",
       "      <td>10</td>\n",
       "    </tr>\n",
       "    <tr>\n",
       "      <th>4</th>\n",
       "      <td>Final consult</td>\n",
       "      <td>6 Final consult</td>\n",
       "      <td>90</td>\n",
       "    </tr>\n",
       "    <tr>\n",
       "      <th>5</th>\n",
       "      <td>First consult</td>\n",
       "      <td>0 First consult</td>\n",
       "      <td>100</td>\n",
       "    </tr>\n",
       "    <tr>\n",
       "      <th>6</th>\n",
       "      <td>Medicine</td>\n",
       "      <td>4 Medicine</td>\n",
       "      <td>6</td>\n",
       "    </tr>\n",
       "    <tr>\n",
       "      <th>7</th>\n",
       "      <td>Medicine</td>\n",
       "      <td>5 Medicine</td>\n",
       "      <td>74</td>\n",
       "    </tr>\n",
       "    <tr>\n",
       "      <th>10</th>\n",
       "      <td>Physical test</td>\n",
       "      <td>3 Physical test</td>\n",
       "      <td>31</td>\n",
       "    </tr>\n",
       "    <tr>\n",
       "      <th>8</th>\n",
       "      <td>Physical test</td>\n",
       "      <td>1 Physical test</td>\n",
       "      <td>33</td>\n",
       "    </tr>\n",
       "    <tr>\n",
       "      <th>9</th>\n",
       "      <td>Physical test</td>\n",
       "      <td>2 Physical test</td>\n",
       "      <td>36</td>\n",
       "    </tr>\n",
       "    <tr>\n",
       "      <th>11</th>\n",
       "      <td>Second consult</td>\n",
       "      <td>3 Second consult</td>\n",
       "      <td>10</td>\n",
       "    </tr>\n",
       "    <tr>\n",
       "      <th>12</th>\n",
       "      <td>Second consult</td>\n",
       "      <td>4 Second consult</td>\n",
       "      <td>90</td>\n",
       "    </tr>\n",
       "    <tr>\n",
       "      <th>13</th>\n",
       "      <td>Surgery</td>\n",
       "      <td>4 Surgery</td>\n",
       "      <td>4</td>\n",
       "    </tr>\n",
       "    <tr>\n",
       "      <th>14</th>\n",
       "      <td>Surgery</td>\n",
       "      <td>5 Surgery</td>\n",
       "      <td>16</td>\n",
       "    </tr>\n",
       "    <tr>\n",
       "      <th>16</th>\n",
       "      <td>X-ray scan</td>\n",
       "      <td>2 X-ray scan</td>\n",
       "      <td>32</td>\n",
       "    </tr>\n",
       "    <tr>\n",
       "      <th>15</th>\n",
       "      <td>X-ray scan</td>\n",
       "      <td>1 X-ray scan</td>\n",
       "      <td>27</td>\n",
       "    </tr>\n",
       "    <tr>\n",
       "      <th>17</th>\n",
       "      <td>X-ray scan</td>\n",
       "      <td>3 X-ray scan</td>\n",
       "      <td>31</td>\n",
       "    </tr>\n",
       "  </tbody>\n",
       "</table>\n",
       "</div>"
      ]
     },
     "metadata": {
      "application/vnd.databricks.v1+output": {
       "addedWidgets": {},
       "arguments": {},
       "data": "<div>\n<style scoped>\n    .dataframe tbody tr th:only-of-type {\n        vertical-align: middle;\n    }\n\n    .dataframe tbody tr th {\n        vertical-align: top;\n    }\n\n    .dataframe thead th {\n        text-align: right;\n    }\n</style>\n<table border=\"1\" class=\"dataframe\">\n  <thead>\n    <tr style=\"text-align: right;\">\n      <th></th>\n      <th>action</th>\n      <th>treatment_step_action</th>\n      <th>size</th>\n    </tr>\n  </thead>\n  <tbody>\n    <tr>\n      <th>0</th>\n      <td>Blood test</td>\n      <td>1 Blood test</td>\n      <td>40</td>\n    </tr>\n    <tr>\n      <th>1</th>\n      <td>Blood test</td>\n      <td>2 Blood test</td>\n      <td>32</td>\n    </tr>\n    <tr>\n      <th>2</th>\n      <td>Blood test</td>\n      <td>3 Blood test</td>\n      <td>28</td>\n    </tr>\n    <tr>\n      <th>3</th>\n      <td>Final consult</td>\n      <td>5 Final consult</td>\n      <td>10</td>\n    </tr>\n    <tr>\n      <th>4</th>\n      <td>Final consult</td>\n      <td>6 Final consult</td>\n      <td>90</td>\n    </tr>\n    <tr>\n      <th>5</th>\n      <td>First consult</td>\n      <td>0 First consult</td>\n      <td>100</td>\n    </tr>\n    <tr>\n      <th>6</th>\n      <td>Medicine</td>\n      <td>4 Medicine</td>\n      <td>6</td>\n    </tr>\n    <tr>\n      <th>7</th>\n      <td>Medicine</td>\n      <td>5 Medicine</td>\n      <td>74</td>\n    </tr>\n    <tr>\n      <th>10</th>\n      <td>Physical test</td>\n      <td>3 Physical test</td>\n      <td>31</td>\n    </tr>\n    <tr>\n      <th>8</th>\n      <td>Physical test</td>\n      <td>1 Physical test</td>\n      <td>33</td>\n    </tr>\n    <tr>\n      <th>9</th>\n      <td>Physical test</td>\n      <td>2 Physical test</td>\n      <td>36</td>\n    </tr>\n    <tr>\n      <th>11</th>\n      <td>Second consult</td>\n      <td>3 Second consult</td>\n      <td>10</td>\n    </tr>\n    <tr>\n      <th>12</th>\n      <td>Second consult</td>\n      <td>4 Second consult</td>\n      <td>90</td>\n    </tr>\n    <tr>\n      <th>13</th>\n      <td>Surgery</td>\n      <td>4 Surgery</td>\n      <td>4</td>\n    </tr>\n    <tr>\n      <th>14</th>\n      <td>Surgery</td>\n      <td>5 Surgery</td>\n      <td>16</td>\n    </tr>\n    <tr>\n      <th>16</th>\n      <td>X-ray scan</td>\n      <td>2 X-ray scan</td>\n      <td>32</td>\n    </tr>\n    <tr>\n      <th>15</th>\n      <td>X-ray scan</td>\n      <td>1 X-ray scan</td>\n      <td>27</td>\n    </tr>\n    <tr>\n      <th>17</th>\n      <td>X-ray scan</td>\n      <td>3 X-ray scan</td>\n      <td>31</td>\n    </tr>\n  </tbody>\n</table>\n</div>",
       "datasetInfos": [],
       "metadata": {},
       "removedWidgets": [],
       "textData": null,
       "type": "htmlSandbox"
      }
     },
     "output_type": "display_data"
    }
   ],
   "source": [
    "groupByTreatment = pandasDF.groupby(['action', 'treatment_step_action'], as_index=False).size().sort_values('action')\n",
    "groupByTreatment"
   ]
  },
  {
   "cell_type": "code",
   "execution_count": 0,
   "metadata": {
    "application/vnd.databricks.v1+cell": {
     "cellMetadata": {
      "byteLimit": 2048000,
      "rowLimit": 10000
     },
     "inputWidgets": {},
     "nuid": "d43eefee-4099-426e-8d59-8392f51798f2",
     "showTitle": false,
     "title": ""
    }
   },
   "outputs": [],
   "source": [
    "# time in between paths\n",
    "\n",
    "# sort\n",
    "pandasDF['date_time'] = pandasDF.groupby('patient')['date_time'].apply(lambda x: x.sort_values())\n",
    "\n",
    "# pandasDF['diff_to_previous'] / pandasDF['previous_treatment_step']\n",
    "pandasDF['diff_to_previous'] = pandasDF.groupby('patient')['date_time'].diff() / np.timedelta64(1, 'D')\n",
    "pandasDF['diff_to_previous'] = pandasDF['diff_to_previous'].fillna(0)\n",
    "df_grouped_previous = pandasDF.groupby(['patient'], sort=False).apply(lambda x: x['treatment_step_action'].shift(1)).reset_index()\n",
    "pandasDF['previous_treatment_step'] = df_grouped_previous['treatment_step_action']"
   ]
  },
  {
   "cell_type": "code",
   "execution_count": 0,
   "metadata": {
    "application/vnd.databricks.v1+cell": {
     "cellMetadata": {
      "byteLimit": 2048000,
      "rowLimit": 10000
     },
     "inputWidgets": {},
     "nuid": "f889a9ca-9a4f-4a93-b1ca-44217029267f",
     "showTitle": false,
     "title": ""
    }
   },
   "outputs": [],
   "source": [
    "# pandasDF['diff_to_next'] / pandasDF['next_treatment_step']\n",
    "pandasDF['diff_to_next'] = ((pandasDF['date_time'] - pandasDF['date_time'].shift(periods = -1)) /np.timedelta64(1, 'D')) *-1\n",
    "pandasDF['diff_to_next'] = pandasDF.groupby('patient')['date_time'].apply(lambda x: x.shift(periods = -1))\n",
    "pandasDF['diff_to_next'] = (pandasDF['diff_to_next'] - pandasDF['date_time']) / np.timedelta64(1, 'D')\n",
    "pandasDF['diff_to_next'] = pandasDF['diff_to_next'].fillna(0)\n",
    "df_grouped_next = pandasDF.groupby('patient', sort=False).apply(lambda x: x['treatment_step_action'].shift(-1))\n",
    "pandasDF['next_treatment_step'] = df_grouped_next.values"
   ]
  },
  {
   "cell_type": "code",
   "execution_count": 0,
   "metadata": {
    "application/vnd.databricks.v1+cell": {
     "cellMetadata": {
      "byteLimit": 2048000,
      "rowLimit": 10000
     },
     "inputWidgets": {},
     "nuid": "b305157f-ad7b-4a88-b893-4535c9186957",
     "showTitle": false,
     "title": ""
    }
   },
   "outputs": [],
   "source": [
    "#pandasDF['time_in_system']\n",
    "df_grouped_time_in_system = pandasDF.groupby('patient')['date_time'].apply(lambda x: (x.max() - x.min()) / np.timedelta64(1, 'D') ).reset_index()\n",
    "df_grouped_time_in_system = df_grouped_time_in_system.rename(columns={'date_time': 'time_in_system'})\n",
    "\n",
    "pandasDF = pd.merge(pandasDF, df_grouped_time_in_system, on='patient')"
   ]
  },
  {
   "cell_type": "code",
   "execution_count": 0,
   "metadata": {
    "application/vnd.databricks.v1+cell": {
     "cellMetadata": {
      "byteLimit": 2048000,
      "rowLimit": 10000
     },
     "inputWidgets": {},
     "nuid": "0ab343f1-8976-4d91-bba3-f21a45620025",
     "showTitle": false,
     "title": ""
    }
   },
   "outputs": [
    {
     "output_type": "stream",
     "name": "stderr",
     "output_type": "stream",
     "text": [
      "<command-4426418642689932>:7: FutureWarning:\n\nThe frame.append method is deprecated and will be removed from pandas in a future version. Use pandas.concat instead.\n\n<command-4426418642689932>:9: FutureWarning:\n\nThe frame.append method is deprecated and will be removed from pandas in a future version. Use pandas.concat instead.\n\n"
     ]
    }
   ],
   "source": [
    "groupBySankeyPlot = pandasDF.groupby(['treatment_step_action', 'next_treatment_step'], as_index=False).size()\n",
    "groupBySankeyPlot['sources'] = groupBySankeyPlot.groupby('treatment_step_action').ngroup()\n",
    "tempDict = groupBySankeyPlot.set_index('treatment_step_action')['sources'].to_dict()\n",
    "groupBySankeyPlot['targets'] = groupBySankeyPlot['next_treatment_step'].apply(lambda item: tempDict[item] if item in tempDict else 16 if item == '5  Final consult' else 17)\n",
    "\n",
    "new_row = {'treatment_step_action': '5  Final consult', 'next_treatment_step': None, 'size': 0, 'sources': None, 'targets': None}\n",
    "groupBySankeyPlot = groupBySankeyPlot.append(new_row, ignore_index=True)\n",
    "new_row = {'treatment_step_action':'6  Final consult', 'next_treatment_step': None, 'size': 0, 'sources': None, 'targets': None}\n",
    "groupBySankeyPlot = groupBySankeyPlot.append(new_row, ignore_index=True)"
   ]
  },
  {
   "cell_type": "code",
   "execution_count": 0,
   "metadata": {
    "application/vnd.databricks.v1+cell": {
     "cellMetadata": {
      "byteLimit": 2048000,
      "rowLimit": 10000
     },
     "inputWidgets": {},
     "nuid": "31f7c603-98a4-411c-8570-fe7aea5d8e14",
     "showTitle": false,
     "title": ""
    }
   },
   "outputs": [
    {
     "output_type": "display_data",
     "data": {
      "text/html": [
       "<html>\n",
       "<head><meta charset=\"utf-8\" /></head>\n",
       "<body>\n",
       "    <div>            <script src=\"https://cdnjs.cloudflare.com/ajax/libs/mathjax/2.7.5/MathJax.js?config=TeX-AMS-MML_SVG\"></script><script type=\"text/javascript\">if (window.MathJax) {MathJax.Hub.Config({SVG: {font: \"STIX-Web\"}});}</script>                <script type=\"text/javascript\">window.PlotlyConfig = {MathJaxConfig: 'local'};</script>\n",
       "        <script src=\"https://cdn.plot.ly/plotly-2.9.0.min.js\"></script>                <div id=\"77a6772a-2f91-4dc8-a905-2538494abac2\" class=\"plotly-graph-div\" style=\"height:100%; width:100%;\"></div>            <script type=\"text/javascript\">                                    window.PLOTLYENV=window.PLOTLYENV || {};                                    if (document.getElementById(\"77a6772a-2f91-4dc8-a905-2538494abac2\")) {                    Plotly.newPlot(                        \"77a6772a-2f91-4dc8-a905-2538494abac2\",                        [{\"arrangement\":\"snap\",\"link\":{\"source\":[0,0,0,1,1,2,2,3,3,4,4,4,5,5,5,6,6,7,8,9,9,10,11,12,12,13,14,15,null,null],\"target\":[1,2,3,5,6,4,6,4,5,8,9,10,7,9,10,7,8,12,12,11,13,12,17,14,15,17,17,17,null,null],\"value\":[40,33,27,22,18,19,14,13,14,13,5,14,14,5,17,14,18,28,31,6,4,31,6,74,16,4,74,16,0,0]},\"node\":{\"color\":\"blue\",\"label\":[\"0 First consult\",\"1 Blood test\",\"1 Physical test\",\"1 X-ray scan\",\"2 Blood test\",\"2 Physical test\",\"2 X-ray scan\",\"3 Blood test\",\"3 Physical test\",\"3 Second consult\",\"3 X-ray scan\",\"4 Medicine\",\"4 Second consult\",\"4 Surgery\",\"5 Medicine\",\"5 Surgery\",\"5  Final consult\",\"6  Final consult\"],\"line\":{\"color\":\"black\",\"width\":0.5},\"pad\":15,\"thickness\":20},\"type\":\"sankey\"}],                        {\"template\":{\"data\":{\"bar\":[{\"error_x\":{\"color\":\"#2a3f5f\"},\"error_y\":{\"color\":\"#2a3f5f\"},\"marker\":{\"line\":{\"color\":\"#E5ECF6\",\"width\":0.5},\"pattern\":{\"fillmode\":\"overlay\",\"size\":10,\"solidity\":0.2}},\"type\":\"bar\"}],\"barpolar\":[{\"marker\":{\"line\":{\"color\":\"#E5ECF6\",\"width\":0.5},\"pattern\":{\"fillmode\":\"overlay\",\"size\":10,\"solidity\":0.2}},\"type\":\"barpolar\"}],\"carpet\":[{\"aaxis\":{\"endlinecolor\":\"#2a3f5f\",\"gridcolor\":\"white\",\"linecolor\":\"white\",\"minorgridcolor\":\"white\",\"startlinecolor\":\"#2a3f5f\"},\"baxis\":{\"endlinecolor\":\"#2a3f5f\",\"gridcolor\":\"white\",\"linecolor\":\"white\",\"minorgridcolor\":\"white\",\"startlinecolor\":\"#2a3f5f\"},\"type\":\"carpet\"}],\"choropleth\":[{\"colorbar\":{\"outlinewidth\":0,\"ticks\":\"\"},\"type\":\"choropleth\"}],\"contour\":[{\"colorbar\":{\"outlinewidth\":0,\"ticks\":\"\"},\"colorscale\":[[0.0,\"#0d0887\"],[0.1111111111111111,\"#46039f\"],[0.2222222222222222,\"#7201a8\"],[0.3333333333333333,\"#9c179e\"],[0.4444444444444444,\"#bd3786\"],[0.5555555555555556,\"#d8576b\"],[0.6666666666666666,\"#ed7953\"],[0.7777777777777778,\"#fb9f3a\"],[0.8888888888888888,\"#fdca26\"],[1.0,\"#f0f921\"]],\"type\":\"contour\"}],\"contourcarpet\":[{\"colorbar\":{\"outlinewidth\":0,\"ticks\":\"\"},\"type\":\"contourcarpet\"}],\"heatmap\":[{\"colorbar\":{\"outlinewidth\":0,\"ticks\":\"\"},\"colorscale\":[[0.0,\"#0d0887\"],[0.1111111111111111,\"#46039f\"],[0.2222222222222222,\"#7201a8\"],[0.3333333333333333,\"#9c179e\"],[0.4444444444444444,\"#bd3786\"],[0.5555555555555556,\"#d8576b\"],[0.6666666666666666,\"#ed7953\"],[0.7777777777777778,\"#fb9f3a\"],[0.8888888888888888,\"#fdca26\"],[1.0,\"#f0f921\"]],\"type\":\"heatmap\"}],\"heatmapgl\":[{\"colorbar\":{\"outlinewidth\":0,\"ticks\":\"\"},\"colorscale\":[[0.0,\"#0d0887\"],[0.1111111111111111,\"#46039f\"],[0.2222222222222222,\"#7201a8\"],[0.3333333333333333,\"#9c179e\"],[0.4444444444444444,\"#bd3786\"],[0.5555555555555556,\"#d8576b\"],[0.6666666666666666,\"#ed7953\"],[0.7777777777777778,\"#fb9f3a\"],[0.8888888888888888,\"#fdca26\"],[1.0,\"#f0f921\"]],\"type\":\"heatmapgl\"}],\"histogram\":[{\"marker\":{\"pattern\":{\"fillmode\":\"overlay\",\"size\":10,\"solidity\":0.2}},\"type\":\"histogram\"}],\"histogram2d\":[{\"colorbar\":{\"outlinewidth\":0,\"ticks\":\"\"},\"colorscale\":[[0.0,\"#0d0887\"],[0.1111111111111111,\"#46039f\"],[0.2222222222222222,\"#7201a8\"],[0.3333333333333333,\"#9c179e\"],[0.4444444444444444,\"#bd3786\"],[0.5555555555555556,\"#d8576b\"],[0.6666666666666666,\"#ed7953\"],[0.7777777777777778,\"#fb9f3a\"],[0.8888888888888888,\"#fdca26\"],[1.0,\"#f0f921\"]],\"type\":\"histogram2d\"}],\"histogram2dcontour\":[{\"colorbar\":{\"outlinewidth\":0,\"ticks\":\"\"},\"colorscale\":[[0.0,\"#0d0887\"],[0.1111111111111111,\"#46039f\"],[0.2222222222222222,\"#7201a8\"],[0.3333333333333333,\"#9c179e\"],[0.4444444444444444,\"#bd3786\"],[0.5555555555555556,\"#d8576b\"],[0.6666666666666666,\"#ed7953\"],[0.7777777777777778,\"#fb9f3a\"],[0.8888888888888888,\"#fdca26\"],[1.0,\"#f0f921\"]],\"type\":\"histogram2dcontour\"}],\"mesh3d\":[{\"colorbar\":{\"outlinewidth\":0,\"ticks\":\"\"},\"type\":\"mesh3d\"}],\"parcoords\":[{\"line\":{\"colorbar\":{\"outlinewidth\":0,\"ticks\":\"\"}},\"type\":\"parcoords\"}],\"pie\":[{\"automargin\":true,\"type\":\"pie\"}],\"scatter\":[{\"marker\":{\"colorbar\":{\"outlinewidth\":0,\"ticks\":\"\"}},\"type\":\"scatter\"}],\"scatter3d\":[{\"line\":{\"colorbar\":{\"outlinewidth\":0,\"ticks\":\"\"}},\"marker\":{\"colorbar\":{\"outlinewidth\":0,\"ticks\":\"\"}},\"type\":\"scatter3d\"}],\"scattercarpet\":[{\"marker\":{\"colorbar\":{\"outlinewidth\":0,\"ticks\":\"\"}},\"type\":\"scattercarpet\"}],\"scattergeo\":[{\"marker\":{\"colorbar\":{\"outlinewidth\":0,\"ticks\":\"\"}},\"type\":\"scattergeo\"}],\"scattergl\":[{\"marker\":{\"colorbar\":{\"outlinewidth\":0,\"ticks\":\"\"}},\"type\":\"scattergl\"}],\"scattermapbox\":[{\"marker\":{\"colorbar\":{\"outlinewidth\":0,\"ticks\":\"\"}},\"type\":\"scattermapbox\"}],\"scatterpolar\":[{\"marker\":{\"colorbar\":{\"outlinewidth\":0,\"ticks\":\"\"}},\"type\":\"scatterpolar\"}],\"scatterpolargl\":[{\"marker\":{\"colorbar\":{\"outlinewidth\":0,\"ticks\":\"\"}},\"type\":\"scatterpolargl\"}],\"scatterternary\":[{\"marker\":{\"colorbar\":{\"outlinewidth\":0,\"ticks\":\"\"}},\"type\":\"scatterternary\"}],\"surface\":[{\"colorbar\":{\"outlinewidth\":0,\"ticks\":\"\"},\"colorscale\":[[0.0,\"#0d0887\"],[0.1111111111111111,\"#46039f\"],[0.2222222222222222,\"#7201a8\"],[0.3333333333333333,\"#9c179e\"],[0.4444444444444444,\"#bd3786\"],[0.5555555555555556,\"#d8576b\"],[0.6666666666666666,\"#ed7953\"],[0.7777777777777778,\"#fb9f3a\"],[0.8888888888888888,\"#fdca26\"],[1.0,\"#f0f921\"]],\"type\":\"surface\"}],\"table\":[{\"cells\":{\"fill\":{\"color\":\"#EBF0F8\"},\"line\":{\"color\":\"white\"}},\"header\":{\"fill\":{\"color\":\"#C8D4E3\"},\"line\":{\"color\":\"white\"}},\"type\":\"table\"}]},\"layout\":{\"annotationdefaults\":{\"arrowcolor\":\"#2a3f5f\",\"arrowhead\":0,\"arrowwidth\":1},\"autotypenumbers\":\"strict\",\"coloraxis\":{\"colorbar\":{\"outlinewidth\":0,\"ticks\":\"\"}},\"colorscale\":{\"diverging\":[[0,\"#8e0152\"],[0.1,\"#c51b7d\"],[0.2,\"#de77ae\"],[0.3,\"#f1b6da\"],[0.4,\"#fde0ef\"],[0.5,\"#f7f7f7\"],[0.6,\"#e6f5d0\"],[0.7,\"#b8e186\"],[0.8,\"#7fbc41\"],[0.9,\"#4d9221\"],[1,\"#276419\"]],\"sequential\":[[0.0,\"#0d0887\"],[0.1111111111111111,\"#46039f\"],[0.2222222222222222,\"#7201a8\"],[0.3333333333333333,\"#9c179e\"],[0.4444444444444444,\"#bd3786\"],[0.5555555555555556,\"#d8576b\"],[0.6666666666666666,\"#ed7953\"],[0.7777777777777778,\"#fb9f3a\"],[0.8888888888888888,\"#fdca26\"],[1.0,\"#f0f921\"]],\"sequentialminus\":[[0.0,\"#0d0887\"],[0.1111111111111111,\"#46039f\"],[0.2222222222222222,\"#7201a8\"],[0.3333333333333333,\"#9c179e\"],[0.4444444444444444,\"#bd3786\"],[0.5555555555555556,\"#d8576b\"],[0.6666666666666666,\"#ed7953\"],[0.7777777777777778,\"#fb9f3a\"],[0.8888888888888888,\"#fdca26\"],[1.0,\"#f0f921\"]]},\"colorway\":[\"#636efa\",\"#EF553B\",\"#00cc96\",\"#ab63fa\",\"#FFA15A\",\"#19d3f3\",\"#FF6692\",\"#B6E880\",\"#FF97FF\",\"#FECB52\"],\"font\":{\"color\":\"#2a3f5f\"},\"geo\":{\"bgcolor\":\"white\",\"lakecolor\":\"white\",\"landcolor\":\"#E5ECF6\",\"showlakes\":true,\"showland\":true,\"subunitcolor\":\"white\"},\"hoverlabel\":{\"align\":\"left\"},\"hovermode\":\"closest\",\"mapbox\":{\"style\":\"light\"},\"paper_bgcolor\":\"white\",\"plot_bgcolor\":\"#E5ECF6\",\"polar\":{\"angularaxis\":{\"gridcolor\":\"white\",\"linecolor\":\"white\",\"ticks\":\"\"},\"bgcolor\":\"#E5ECF6\",\"radialaxis\":{\"gridcolor\":\"white\",\"linecolor\":\"white\",\"ticks\":\"\"}},\"scene\":{\"xaxis\":{\"backgroundcolor\":\"#E5ECF6\",\"gridcolor\":\"white\",\"gridwidth\":2,\"linecolor\":\"white\",\"showbackground\":true,\"ticks\":\"\",\"zerolinecolor\":\"white\"},\"yaxis\":{\"backgroundcolor\":\"#E5ECF6\",\"gridcolor\":\"white\",\"gridwidth\":2,\"linecolor\":\"white\",\"showbackground\":true,\"ticks\":\"\",\"zerolinecolor\":\"white\"},\"zaxis\":{\"backgroundcolor\":\"#E5ECF6\",\"gridcolor\":\"white\",\"gridwidth\":2,\"linecolor\":\"white\",\"showbackground\":true,\"ticks\":\"\",\"zerolinecolor\":\"white\"}},\"shapedefaults\":{\"line\":{\"color\":\"#2a3f5f\"}},\"ternary\":{\"aaxis\":{\"gridcolor\":\"white\",\"linecolor\":\"white\",\"ticks\":\"\"},\"baxis\":{\"gridcolor\":\"white\",\"linecolor\":\"white\",\"ticks\":\"\"},\"bgcolor\":\"#E5ECF6\",\"caxis\":{\"gridcolor\":\"white\",\"linecolor\":\"white\",\"ticks\":\"\"}},\"title\":{\"x\":0.05},\"xaxis\":{\"automargin\":true,\"gridcolor\":\"white\",\"linecolor\":\"white\",\"ticks\":\"\",\"title\":{\"standoff\":15},\"zerolinecolor\":\"white\",\"zerolinewidth\":2},\"yaxis\":{\"automargin\":true,\"gridcolor\":\"white\",\"linecolor\":\"white\",\"ticks\":\"\",\"title\":{\"standoff\":15},\"zerolinecolor\":\"white\",\"zerolinewidth\":2}}},\"title\":{\"text\":\"Procedure Sankey\"},\"font\":{\"size\":15}},                        {\"responsive\": true}                    )                };                            </script>        </div>\n",
       "</body>\n",
       "</html>"
      ]
     },
     "metadata": {
      "application/vnd.databricks.v1+output": {
       "addedWidgets": {},
       "arguments": {},
       "data": "<html>\n<head><meta charset=\"utf-8\" /></head>\n<body>\n    <div>            <script src=\"https://cdnjs.cloudflare.com/ajax/libs/mathjax/2.7.5/MathJax.js?config=TeX-AMS-MML_SVG\"></script><script type=\"text/javascript\">if (window.MathJax) {MathJax.Hub.Config({SVG: {font: \"STIX-Web\"}});}</script>                <script type=\"text/javascript\">window.PlotlyConfig = {MathJaxConfig: 'local'};</script>\n        <script src=\"https://cdn.plot.ly/plotly-2.9.0.min.js\"></script>                <div id=\"77a6772a-2f91-4dc8-a905-2538494abac2\" class=\"plotly-graph-div\" style=\"height:100%; width:100%;\"></div>            <script type=\"text/javascript\">                                    window.PLOTLYENV=window.PLOTLYENV || {};                                    if (document.getElementById(\"77a6772a-2f91-4dc8-a905-2538494abac2\")) {                    Plotly.newPlot(                        \"77a6772a-2f91-4dc8-a905-2538494abac2\",                        [{\"arrangement\":\"snap\",\"link\":{\"source\":[0,0,0,1,1,2,2,3,3,4,4,4,5,5,5,6,6,7,8,9,9,10,11,12,12,13,14,15,null,null],\"target\":[1,2,3,5,6,4,6,4,5,8,9,10,7,9,10,7,8,12,12,11,13,12,17,14,15,17,17,17,null,null],\"value\":[40,33,27,22,18,19,14,13,14,13,5,14,14,5,17,14,18,28,31,6,4,31,6,74,16,4,74,16,0,0]},\"node\":{\"color\":\"blue\",\"label\":[\"0 First consult\",\"1 Blood test\",\"1 Physical test\",\"1 X-ray scan\",\"2 Blood test\",\"2 Physical test\",\"2 X-ray scan\",\"3 Blood test\",\"3 Physical test\",\"3 Second consult\",\"3 X-ray scan\",\"4 Medicine\",\"4 Second consult\",\"4 Surgery\",\"5 Medicine\",\"5 Surgery\",\"5  Final consult\",\"6  Final consult\"],\"line\":{\"color\":\"black\",\"width\":0.5},\"pad\":15,\"thickness\":20},\"type\":\"sankey\"}],                        {\"template\":{\"data\":{\"bar\":[{\"error_x\":{\"color\":\"#2a3f5f\"},\"error_y\":{\"color\":\"#2a3f5f\"},\"marker\":{\"line\":{\"color\":\"#E5ECF6\",\"width\":0.5},\"pattern\":{\"fillmode\":\"overlay\",\"size\":10,\"solidity\":0.2}},\"type\":\"bar\"}],\"barpolar\":[{\"marker\":{\"line\":{\"color\":\"#E5ECF6\",\"width\":0.5},\"pattern\":{\"fillmode\":\"overlay\",\"size\":10,\"solidity\":0.2}},\"type\":\"barpolar\"}],\"carpet\":[{\"aaxis\":{\"endlinecolor\":\"#2a3f5f\",\"gridcolor\":\"white\",\"linecolor\":\"white\",\"minorgridcolor\":\"white\",\"startlinecolor\":\"#2a3f5f\"},\"baxis\":{\"endlinecolor\":\"#2a3f5f\",\"gridcolor\":\"white\",\"linecolor\":\"white\",\"minorgridcolor\":\"white\",\"startlinecolor\":\"#2a3f5f\"},\"type\":\"carpet\"}],\"choropleth\":[{\"colorbar\":{\"outlinewidth\":0,\"ticks\":\"\"},\"type\":\"choropleth\"}],\"contour\":[{\"colorbar\":{\"outlinewidth\":0,\"ticks\":\"\"},\"colorscale\":[[0.0,\"#0d0887\"],[0.1111111111111111,\"#46039f\"],[0.2222222222222222,\"#7201a8\"],[0.3333333333333333,\"#9c179e\"],[0.4444444444444444,\"#bd3786\"],[0.5555555555555556,\"#d8576b\"],[0.6666666666666666,\"#ed7953\"],[0.7777777777777778,\"#fb9f3a\"],[0.8888888888888888,\"#fdca26\"],[1.0,\"#f0f921\"]],\"type\":\"contour\"}],\"contourcarpet\":[{\"colorbar\":{\"outlinewidth\":0,\"ticks\":\"\"},\"type\":\"contourcarpet\"}],\"heatmap\":[{\"colorbar\":{\"outlinewidth\":0,\"ticks\":\"\"},\"colorscale\":[[0.0,\"#0d0887\"],[0.1111111111111111,\"#46039f\"],[0.2222222222222222,\"#7201a8\"],[0.3333333333333333,\"#9c179e\"],[0.4444444444444444,\"#bd3786\"],[0.5555555555555556,\"#d8576b\"],[0.6666666666666666,\"#ed7953\"],[0.7777777777777778,\"#fb9f3a\"],[0.8888888888888888,\"#fdca26\"],[1.0,\"#f0f921\"]],\"type\":\"heatmap\"}],\"heatmapgl\":[{\"colorbar\":{\"outlinewidth\":0,\"ticks\":\"\"},\"colorscale\":[[0.0,\"#0d0887\"],[0.1111111111111111,\"#46039f\"],[0.2222222222222222,\"#7201a8\"],[0.3333333333333333,\"#9c179e\"],[0.4444444444444444,\"#bd3786\"],[0.5555555555555556,\"#d8576b\"],[0.6666666666666666,\"#ed7953\"],[0.7777777777777778,\"#fb9f3a\"],[0.8888888888888888,\"#fdca26\"],[1.0,\"#f0f921\"]],\"type\":\"heatmapgl\"}],\"histogram\":[{\"marker\":{\"pattern\":{\"fillmode\":\"overlay\",\"size\":10,\"solidity\":0.2}},\"type\":\"histogram\"}],\"histogram2d\":[{\"colorbar\":{\"outlinewidth\":0,\"ticks\":\"\"},\"colorscale\":[[0.0,\"#0d0887\"],[0.1111111111111111,\"#46039f\"],[0.2222222222222222,\"#7201a8\"],[0.3333333333333333,\"#9c179e\"],[0.4444444444444444,\"#bd3786\"],[0.5555555555555556,\"#d8576b\"],[0.6666666666666666,\"#ed7953\"],[0.7777777777777778,\"#fb9f3a\"],[0.8888888888888888,\"#fdca26\"],[1.0,\"#f0f921\"]],\"type\":\"histogram2d\"}],\"histogram2dcontour\":[{\"colorbar\":{\"outlinewidth\":0,\"ticks\":\"\"},\"colorscale\":[[0.0,\"#0d0887\"],[0.1111111111111111,\"#46039f\"],[0.2222222222222222,\"#7201a8\"],[0.3333333333333333,\"#9c179e\"],[0.4444444444444444,\"#bd3786\"],[0.5555555555555556,\"#d8576b\"],[0.6666666666666666,\"#ed7953\"],[0.7777777777777778,\"#fb9f3a\"],[0.8888888888888888,\"#fdca26\"],[1.0,\"#f0f921\"]],\"type\":\"histogram2dcontour\"}],\"mesh3d\":[{\"colorbar\":{\"outlinewidth\":0,\"ticks\":\"\"},\"type\":\"mesh3d\"}],\"parcoords\":[{\"line\":{\"colorbar\":{\"outlinewidth\":0,\"ticks\":\"\"}},\"type\":\"parcoords\"}],\"pie\":[{\"automargin\":true,\"type\":\"pie\"}],\"scatter\":[{\"marker\":{\"colorbar\":{\"outlinewidth\":0,\"ticks\":\"\"}},\"type\":\"scatter\"}],\"scatter3d\":[{\"line\":{\"colorbar\":{\"outlinewidth\":0,\"ticks\":\"\"}},\"marker\":{\"colorbar\":{\"outlinewidth\":0,\"ticks\":\"\"}},\"type\":\"scatter3d\"}],\"scattercarpet\":[{\"marker\":{\"colorbar\":{\"outlinewidth\":0,\"ticks\":\"\"}},\"type\":\"scattercarpet\"}],\"scattergeo\":[{\"marker\":{\"colorbar\":{\"outlinewidth\":0,\"ticks\":\"\"}},\"type\":\"scattergeo\"}],\"scattergl\":[{\"marker\":{\"colorbar\":{\"outlinewidth\":0,\"ticks\":\"\"}},\"type\":\"scattergl\"}],\"scattermapbox\":[{\"marker\":{\"colorbar\":{\"outlinewidth\":0,\"ticks\":\"\"}},\"type\":\"scattermapbox\"}],\"scatterpolar\":[{\"marker\":{\"colorbar\":{\"outlinewidth\":0,\"ticks\":\"\"}},\"type\":\"scatterpolar\"}],\"scatterpolargl\":[{\"marker\":{\"colorbar\":{\"outlinewidth\":0,\"ticks\":\"\"}},\"type\":\"scatterpolargl\"}],\"scatterternary\":[{\"marker\":{\"colorbar\":{\"outlinewidth\":0,\"ticks\":\"\"}},\"type\":\"scatterternary\"}],\"surface\":[{\"colorbar\":{\"outlinewidth\":0,\"ticks\":\"\"},\"colorscale\":[[0.0,\"#0d0887\"],[0.1111111111111111,\"#46039f\"],[0.2222222222222222,\"#7201a8\"],[0.3333333333333333,\"#9c179e\"],[0.4444444444444444,\"#bd3786\"],[0.5555555555555556,\"#d8576b\"],[0.6666666666666666,\"#ed7953\"],[0.7777777777777778,\"#fb9f3a\"],[0.8888888888888888,\"#fdca26\"],[1.0,\"#f0f921\"]],\"type\":\"surface\"}],\"table\":[{\"cells\":{\"fill\":{\"color\":\"#EBF0F8\"},\"line\":{\"color\":\"white\"}},\"header\":{\"fill\":{\"color\":\"#C8D4E3\"},\"line\":{\"color\":\"white\"}},\"type\":\"table\"}]},\"layout\":{\"annotationdefaults\":{\"arrowcolor\":\"#2a3f5f\",\"arrowhead\":0,\"arrowwidth\":1},\"autotypenumbers\":\"strict\",\"coloraxis\":{\"colorbar\":{\"outlinewidth\":0,\"ticks\":\"\"}},\"colorscale\":{\"diverging\":[[0,\"#8e0152\"],[0.1,\"#c51b7d\"],[0.2,\"#de77ae\"],[0.3,\"#f1b6da\"],[0.4,\"#fde0ef\"],[0.5,\"#f7f7f7\"],[0.6,\"#e6f5d0\"],[0.7,\"#b8e186\"],[0.8,\"#7fbc41\"],[0.9,\"#4d9221\"],[1,\"#276419\"]],\"sequential\":[[0.0,\"#0d0887\"],[0.1111111111111111,\"#46039f\"],[0.2222222222222222,\"#7201a8\"],[0.3333333333333333,\"#9c179e\"],[0.4444444444444444,\"#bd3786\"],[0.5555555555555556,\"#d8576b\"],[0.6666666666666666,\"#ed7953\"],[0.7777777777777778,\"#fb9f3a\"],[0.8888888888888888,\"#fdca26\"],[1.0,\"#f0f921\"]],\"sequentialminus\":[[0.0,\"#0d0887\"],[0.1111111111111111,\"#46039f\"],[0.2222222222222222,\"#7201a8\"],[0.3333333333333333,\"#9c179e\"],[0.4444444444444444,\"#bd3786\"],[0.5555555555555556,\"#d8576b\"],[0.6666666666666666,\"#ed7953\"],[0.7777777777777778,\"#fb9f3a\"],[0.8888888888888888,\"#fdca26\"],[1.0,\"#f0f921\"]]},\"colorway\":[\"#636efa\",\"#EF553B\",\"#00cc96\",\"#ab63fa\",\"#FFA15A\",\"#19d3f3\",\"#FF6692\",\"#B6E880\",\"#FF97FF\",\"#FECB52\"],\"font\":{\"color\":\"#2a3f5f\"},\"geo\":{\"bgcolor\":\"white\",\"lakecolor\":\"white\",\"landcolor\":\"#E5ECF6\",\"showlakes\":true,\"showland\":true,\"subunitcolor\":\"white\"},\"hoverlabel\":{\"align\":\"left\"},\"hovermode\":\"closest\",\"mapbox\":{\"style\":\"light\"},\"paper_bgcolor\":\"white\",\"plot_bgcolor\":\"#E5ECF6\",\"polar\":{\"angularaxis\":{\"gridcolor\":\"white\",\"linecolor\":\"white\",\"ticks\":\"\"},\"bgcolor\":\"#E5ECF6\",\"radialaxis\":{\"gridcolor\":\"white\",\"linecolor\":\"white\",\"ticks\":\"\"}},\"scene\":{\"xaxis\":{\"backgroundcolor\":\"#E5ECF6\",\"gridcolor\":\"white\",\"gridwidth\":2,\"linecolor\":\"white\",\"showbackground\":true,\"ticks\":\"\",\"zerolinecolor\":\"white\"},\"yaxis\":{\"backgroundcolor\":\"#E5ECF6\",\"gridcolor\":\"white\",\"gridwidth\":2,\"linecolor\":\"white\",\"showbackground\":true,\"ticks\":\"\",\"zerolinecolor\":\"white\"},\"zaxis\":{\"backgroundcolor\":\"#E5ECF6\",\"gridcolor\":\"white\",\"gridwidth\":2,\"linecolor\":\"white\",\"showbackground\":true,\"ticks\":\"\",\"zerolinecolor\":\"white\"}},\"shapedefaults\":{\"line\":{\"color\":\"#2a3f5f\"}},\"ternary\":{\"aaxis\":{\"gridcolor\":\"white\",\"linecolor\":\"white\",\"ticks\":\"\"},\"baxis\":{\"gridcolor\":\"white\",\"linecolor\":\"white\",\"ticks\":\"\"},\"bgcolor\":\"#E5ECF6\",\"caxis\":{\"gridcolor\":\"white\",\"linecolor\":\"white\",\"ticks\":\"\"}},\"title\":{\"x\":0.05},\"xaxis\":{\"automargin\":true,\"gridcolor\":\"white\",\"linecolor\":\"white\",\"ticks\":\"\",\"title\":{\"standoff\":15},\"zerolinecolor\":\"white\",\"zerolinewidth\":2},\"yaxis\":{\"automargin\":true,\"gridcolor\":\"white\",\"linecolor\":\"white\",\"ticks\":\"\",\"title\":{\"standoff\":15},\"zerolinecolor\":\"white\",\"zerolinewidth\":2}}},\"title\":{\"text\":\"Procedure Sankey\"},\"font\":{\"size\":15}},                        {\"responsive\": true}                    )                };                            </script>        </div>\n</body>\n</html>",
       "datasetInfos": [],
       "metadata": {},
       "removedWidgets": [],
       "textData": null,
       "type": "htmlSandbox"
      }
     },
     "output_type": "display_data"
    }
   ],
   "source": [
    "import plotly.graph_objects as go\n",
    "\n",
    "fig = go.Figure(data=[go.Sankey(\n",
    "    arrangement='snap',\n",
    "    node = dict(\n",
    "      pad = 15,\n",
    "      thickness = 20,\n",
    "      line = dict(color = \"black\", width = 0.5),\n",
    "      label = list(groupBySankeyPlot['treatment_step_action'].unique()),\n",
    "      color = \"blue\"\n",
    "    ),\n",
    "    link = dict( \n",
    "      source = list(groupBySankeyPlot['sources']), # indices correspond to labels, eg A1, A2, A1, B1, ...\n",
    "      target = list(groupBySankeyPlot['targets']),\n",
    "      value = list(groupBySankeyPlot['size'])\n",
    "))])\n",
    "\n",
    "fig.update_layout(title_text=\"Procedure Sankey\", font_size=15)\n",
    "fig.show()"
   ]
  },
  {
   "cell_type": "code",
   "execution_count": 0,
   "metadata": {
    "application/vnd.databricks.v1+cell": {
     "cellMetadata": {
      "byteLimit": 2048000,
      "rowLimit": 10000
     },
     "inputWidgets": {},
     "nuid": "0557c417-f732-46a1-b7c4-320392e2aa9c",
     "showTitle": false,
     "title": ""
    }
   },
   "outputs": [
    {
     "output_type": "stream",
     "name": "stdout",
     "output_type": "stream",
     "text": [
      "Index(['id', 'patient_id', 'patient', 'action', 'org_resource', 'date_time',\n       'time', 'treatment_step', 'treatment_step_action',\n       'treatment_procedure', 'diff_to_previous', 'previous_treatment_step',\n       'diff_to_next', 'next_treatment_step', 'time_in_system'],\n      dtype='object')\n15\n"
     ]
    }
   ],
   "source": [
    "# final amount of columns\n",
    "print(pandasDF.columns)\n",
    "print(len(pandasDF.columns))"
   ]
  },
  {
   "cell_type": "code",
   "execution_count": 0,
   "metadata": {
    "application/vnd.databricks.v1+cell": {
     "cellMetadata": {
      "byteLimit": 2048000,
      "rowLimit": 10000
     },
     "inputWidgets": {},
     "nuid": "73857de5-6b8b-4c78-a146-c9701a8393e3",
     "showTitle": false,
     "title": ""
    }
   },
   "outputs": [],
   "source": [
    "# write to table\n",
    "sample_table = spark.createDataFrame(pandasDF)\n",
    "sample_table.write.format('delta').mode(\"overwrite\").saveAsTable('health_care')"
   ]
  },
  {
   "cell_type": "code",
   "execution_count": 0,
   "metadata": {
    "application/vnd.databricks.v1+cell": {
     "cellMetadata": {
      "byteLimit": 2048000,
      "implicitDf": true,
      "rowLimit": 10000
     },
     "inputWidgets": {},
     "nuid": "8b736ec9-8e8e-45c0-9adb-98900a407be3",
     "showTitle": false,
     "title": ""
    }
   },
   "outputs": [
    {
     "output_type": "display_data",
     "data": {
      "text/html": [
       "<style scoped>\n",
       "  .table-result-container {\n",
       "    max-height: 300px;\n",
       "    overflow: auto;\n",
       "  }\n",
       "  table, th, td {\n",
       "    border: 1px solid black;\n",
       "    border-collapse: collapse;\n",
       "  }\n",
       "  th, td {\n",
       "    padding: 5px;\n",
       "  }\n",
       "  th {\n",
       "    text-align: left;\n",
       "  }\n",
       "</style><div class='table-result-container'><table class='table-result'><thead style='background-color: white'><tr><th>id</th><th>patient_id</th><th>patient</th><th>action</th><th>org_resource</th><th>date_time</th><th>time</th><th>treatment_step</th><th>treatment_step_action</th><th>treatment_procedure</th><th>diff_to_previous</th><th>previous_treatment_step</th><th>diff_to_next</th><th>next_treatment_step</th><th>time_in_system</th></tr></thead><tbody><tr><td>0</td><td>0</td><td>patient 0</td><td>First consult</td><td>Dr. Anna</td><td>2017-01-02T11:40:11.000+0000</td><td>11:40</td><td>0</td><td>0 First consult</td><td>t1</td><td>0.0</td><td>null</td><td>0.046782407407407404</td><td>1 Blood test</td><td>6.86755787037037</td></tr><tr><td>1</td><td>0</td><td>patient 0</td><td>Blood test</td><td>Lab</td><td>2017-01-02T12:47:33.000+0000</td><td>12:47</td><td>1</td><td>1 Blood test</td><td>t1</td><td>0.046782407407407404</td><td>0 First consult</td><td>0.004363425925925926</td><td>2 Physical test</td><td>6.86755787037037</td></tr><tr><td>2</td><td>0</td><td>patient 0</td><td>Physical test</td><td>Nurse Jesse</td><td>2017-01-02T12:53:50.000+0000</td><td>12:53</td><td>2</td><td>2 Physical test</td><td>t1</td><td>0.004363425925925926</td><td>1 Blood test</td><td>0.1439351851851852</td><td>3 Second consult</td><td>6.86755787037037</td></tr><tr><td>3</td><td>0</td><td>patient 0</td><td>Second consult</td><td>Dr. Anna</td><td>2017-01-02T16:21:06.000+0000</td><td>16:21</td><td>3</td><td>3 Second consult</td><td>t1</td><td>0.1439351851851852</td><td>2 Physical test</td><td>2.876423611111111</td><td>4 Surgery</td><td>6.86755787037037</td></tr><tr><td>4</td><td>0</td><td>patient 0</td><td>Surgery</td><td>Dr. Charlie</td><td>2017-01-05T13:23:09.000+0000</td><td>13:23</td><td>4</td><td>4 Surgery</td><td>t1</td><td>2.876423611111111</td><td>3 Second consult</td><td>3.796053240740741</td><td>5 Final consult</td><td>6.86755787037037</td></tr></tbody></table></div>"
      ]
     },
     "metadata": {
      "application/vnd.databricks.v1+output": {
       "addedWidgets": {},
       "aggData": [],
       "aggError": "",
       "aggOverflow": false,
       "aggSchema": [],
       "aggSeriesLimitReached": false,
       "aggType": "",
       "arguments": {},
       "columnCustomDisplayInfos": {},
       "data": [
        [
         0,
         0,
         "patient 0",
         "First consult",
         "Dr. Anna",
         "2017-01-02T11:40:11.000+0000",
         "11:40",
         0,
         "0 First consult",
         "t1",
         0.0,
         null,
         0.046782407407407404,
         "1 Blood test",
         6.86755787037037
        ],
        [
         1,
         0,
         "patient 0",
         "Blood test",
         "Lab",
         "2017-01-02T12:47:33.000+0000",
         "12:47",
         1,
         "1 Blood test",
         "t1",
         0.046782407407407404,
         "0 First consult",
         0.004363425925925926,
         "2 Physical test",
         6.86755787037037
        ],
        [
         2,
         0,
         "patient 0",
         "Physical test",
         "Nurse Jesse",
         "2017-01-02T12:53:50.000+0000",
         "12:53",
         2,
         "2 Physical test",
         "t1",
         0.004363425925925926,
         "1 Blood test",
         0.1439351851851852,
         "3 Second consult",
         6.86755787037037
        ],
        [
         3,
         0,
         "patient 0",
         "Second consult",
         "Dr. Anna",
         "2017-01-02T16:21:06.000+0000",
         "16:21",
         3,
         "3 Second consult",
         "t1",
         0.1439351851851852,
         "2 Physical test",
         2.876423611111111,
         "4 Surgery",
         6.86755787037037
        ],
        [
         4,
         0,
         "patient 0",
         "Surgery",
         "Dr. Charlie",
         "2017-01-05T13:23:09.000+0000",
         "13:23",
         4,
         "4 Surgery",
         "t1",
         2.876423611111111,
         "3 Second consult",
         3.796053240740741,
         "5 Final consult",
         6.86755787037037
        ]
       ],
       "datasetInfos": [],
       "dbfsResultPath": null,
       "isJsonSchema": true,
       "metadata": {},
       "overflow": false,
       "plotOptions": {
        "customPlotOptions": {},
        "displayType": "table",
        "pivotAggregation": null,
        "pivotColumns": null,
        "xColumns": null,
        "yColumns": null
       },
       "removedWidgets": [],
       "schema": [
        {
         "metadata": "{}",
         "name": "id",
         "type": "\"long\""
        },
        {
         "metadata": "{}",
         "name": "patient_id",
         "type": "\"long\""
        },
        {
         "metadata": "{}",
         "name": "patient",
         "type": "\"string\""
        },
        {
         "metadata": "{}",
         "name": "action",
         "type": "\"string\""
        },
        {
         "metadata": "{}",
         "name": "org_resource",
         "type": "\"string\""
        },
        {
         "metadata": "{}",
         "name": "date_time",
         "type": "\"timestamp\""
        },
        {
         "metadata": "{}",
         "name": "time",
         "type": "\"string\""
        },
        {
         "metadata": "{}",
         "name": "treatment_step",
         "type": "\"long\""
        },
        {
         "metadata": "{}",
         "name": "treatment_step_action",
         "type": "\"string\""
        },
        {
         "metadata": "{}",
         "name": "treatment_procedure",
         "type": "\"string\""
        },
        {
         "metadata": "{}",
         "name": "diff_to_previous",
         "type": "\"double\""
        },
        {
         "metadata": "{}",
         "name": "previous_treatment_step",
         "type": "\"string\""
        },
        {
         "metadata": "{}",
         "name": "diff_to_next",
         "type": "\"double\""
        },
        {
         "metadata": "{}",
         "name": "next_treatment_step",
         "type": "\"string\""
        },
        {
         "metadata": "{}",
         "name": "time_in_system",
         "type": "\"double\""
        }
       ],
       "type": "table"
      }
     },
     "output_type": "display_data"
    }
   ],
   "source": [
    "%sql\n",
    "SELECT *\n",
    "FROM health_care\n",
    "LIMIT 5"
   ]
  },
  {
   "cell_type": "code",
   "execution_count": 0,
   "metadata": {
    "application/vnd.databricks.v1+cell": {
     "cellMetadata": {
      "byteLimit": 2048000,
      "implicitDf": true,
      "rowLimit": 10000
     },
     "inputWidgets": {},
     "nuid": "7af54aa5-a920-410a-a0d2-040540d2d658",
     "showTitle": false,
     "title": ""
    }
   },
   "outputs": [
    {
     "output_type": "display_data",
     "data": {
      "text/html": [
       "<style scoped>\n",
       "  .table-result-container {\n",
       "    max-height: 300px;\n",
       "    overflow: auto;\n",
       "  }\n",
       "  table, th, td {\n",
       "    border: 1px solid black;\n",
       "    border-collapse: collapse;\n",
       "  }\n",
       "  th, td {\n",
       "    padding: 5px;\n",
       "  }\n",
       "  th {\n",
       "    text-align: left;\n",
       "  }\n",
       "</style><div class='table-result-container'><table class='table-result'><thead style='background-color: white'><tr><th>num_affected_rows</th><th>num_inserted_rows</th></tr></thead><tbody><tr><td>1</td><td>1</td></tr></tbody></table></div>"
      ]
     },
     "metadata": {
      "application/vnd.databricks.v1+output": {
       "addedWidgets": {},
       "aggData": [],
       "aggError": "",
       "aggOverflow": false,
       "aggSchema": [],
       "aggSeriesLimitReached": false,
       "aggType": "",
       "arguments": {},
       "columnCustomDisplayInfos": {},
       "data": [
        [
         1,
         1
        ]
       ],
       "datasetInfos": [],
       "dbfsResultPath": null,
       "isJsonSchema": true,
       "metadata": {},
       "overflow": false,
       "plotOptions": {
        "customPlotOptions": {},
        "displayType": "table",
        "pivotAggregation": null,
        "pivotColumns": null,
        "xColumns": null,
        "yColumns": null
       },
       "removedWidgets": [],
       "schema": [
        {
         "metadata": "{}",
         "name": "num_affected_rows",
         "type": "\"long\""
        },
        {
         "metadata": "{}",
         "name": "num_inserted_rows",
         "type": "\"long\""
        }
       ],
       "type": "table"
      }
     },
     "output_type": "display_data"
    }
   ],
   "source": [
    "%sql\n",
    "INSERT INTO health_care (id, patient, action, date_time)\n",
    "VALUES (100 ,\"patient 100\", \"First consult\", \"2017-06-01T11:40:11.000+0000\");"
   ]
  },
  {
   "cell_type": "code",
   "execution_count": 0,
   "metadata": {
    "application/vnd.databricks.v1+cell": {
     "cellMetadata": {
      "byteLimit": 2048000,
      "implicitDf": true,
      "rowLimit": 10000
     },
     "inputWidgets": {},
     "nuid": "a5a228c1-2628-461d-b943-6621bbb1ad2b",
     "showTitle": false,
     "title": ""
    }
   },
   "outputs": [
    {
     "output_type": "display_data",
     "data": {
      "text/html": [
       "<style scoped>\n",
       "  .table-result-container {\n",
       "    max-height: 300px;\n",
       "    overflow: auto;\n",
       "  }\n",
       "  table, th, td {\n",
       "    border: 1px solid black;\n",
       "    border-collapse: collapse;\n",
       "  }\n",
       "  th, td {\n",
       "    padding: 5px;\n",
       "  }\n",
       "  th {\n",
       "    text-align: left;\n",
       "  }\n",
       "</style><div class='table-result-container'><table class='table-result'><thead style='background-color: white'><tr><th>id</th><th>patient_id</th><th>patient</th><th>action</th><th>org_resource</th><th>date_time</th><th>time</th><th>treatment_step</th><th>treatment_step_action</th><th>treatment_procedure</th><th>diff_to_previous</th><th>previous_treatment_step</th><th>diff_to_next</th><th>next_treatment_step</th><th>time_in_system</th></tr></thead><tbody><tr><td>100</td><td>null</td><td>patient 100</td><td>First consult</td><td>null</td><td>2017-06-01T11:40:11.000+0000</td><td>null</td><td>null</td><td>null</td><td>null</td><td>null</td><td>null</td><td>null</td><td>null</td><td>null</td></tr></tbody></table></div>"
      ]
     },
     "metadata": {
      "application/vnd.databricks.v1+output": {
       "addedWidgets": {},
       "aggData": [],
       "aggError": "",
       "aggOverflow": false,
       "aggSchema": [],
       "aggSeriesLimitReached": false,
       "aggType": "",
       "arguments": {},
       "columnCustomDisplayInfos": {},
       "data": [
        [
         100,
         null,
         "patient 100",
         "First consult",
         null,
         "2017-06-01T11:40:11.000+0000",
         null,
         null,
         null,
         null,
         null,
         null,
         null,
         null,
         null
        ]
       ],
       "datasetInfos": [],
       "dbfsResultPath": null,
       "isJsonSchema": true,
       "metadata": {},
       "overflow": false,
       "plotOptions": {
        "customPlotOptions": {},
        "displayType": "table",
        "pivotAggregation": null,
        "pivotColumns": null,
        "xColumns": null,
        "yColumns": null
       },
       "removedWidgets": [],
       "schema": [
        {
         "metadata": "{}",
         "name": "id",
         "type": "\"long\""
        },
        {
         "metadata": "{}",
         "name": "patient_id",
         "type": "\"long\""
        },
        {
         "metadata": "{}",
         "name": "patient",
         "type": "\"string\""
        },
        {
         "metadata": "{}",
         "name": "action",
         "type": "\"string\""
        },
        {
         "metadata": "{}",
         "name": "org_resource",
         "type": "\"string\""
        },
        {
         "metadata": "{}",
         "name": "date_time",
         "type": "\"timestamp\""
        },
        {
         "metadata": "{}",
         "name": "time",
         "type": "\"string\""
        },
        {
         "metadata": "{}",
         "name": "treatment_step",
         "type": "\"long\""
        },
        {
         "metadata": "{}",
         "name": "treatment_step_action",
         "type": "\"string\""
        },
        {
         "metadata": "{}",
         "name": "treatment_procedure",
         "type": "\"string\""
        },
        {
         "metadata": "{}",
         "name": "diff_to_previous",
         "type": "\"double\""
        },
        {
         "metadata": "{}",
         "name": "previous_treatment_step",
         "type": "\"string\""
        },
        {
         "metadata": "{}",
         "name": "diff_to_next",
         "type": "\"double\""
        },
        {
         "metadata": "{}",
         "name": "next_treatment_step",
         "type": "\"string\""
        },
        {
         "metadata": "{}",
         "name": "time_in_system",
         "type": "\"double\""
        }
       ],
       "type": "table"
      }
     },
     "output_type": "display_data"
    }
   ],
   "source": [
    "%sql\n",
    "SELECT *\n",
    "FROM health_care\n",
    "where patient = \"patient 100\""
   ]
  },
  {
   "cell_type": "markdown",
   "metadata": {
    "application/vnd.databricks.v1+cell": {
     "cellMetadata": {
      "byteLimit": 2048000,
      "rowLimit": 10000
     },
     "inputWidgets": {},
     "nuid": "00f59586-8797-4c8d-b084-e1928c2995cf",
     "showTitle": false,
     "title": ""
    }
   },
   "source": [
    "## 5. Results & Limitations\n",
    "-"
   ]
  },
  {
   "cell_type": "markdown",
   "metadata": {
    "application/vnd.databricks.v1+cell": {
     "cellMetadata": {},
     "inputWidgets": {},
     "nuid": "8c60ebff-199a-4ced-bf77-2b33ed166136",
     "showTitle": false,
     "title": ""
    }
   },
   "source": [
    "## 6. Sources"
   ]
  }
 ],
 "metadata": {
  "application/vnd.databricks.v1+notebook": {
   "dashboards": [],
   "language": "python",
   "notebookMetadata": {
    "mostRecentlyExecutedCommandWithImplicitDF": {
     "commandId": 669774187207475,
     "dataframes": [
      "_sqldf"
     ]
    },
    "pythonIndentUnit": 4
   },
   "notebookName": "eda_interview",
   "widgets": {}
  }
 },
 "nbformat": 4,
 "nbformat_minor": 0
}
